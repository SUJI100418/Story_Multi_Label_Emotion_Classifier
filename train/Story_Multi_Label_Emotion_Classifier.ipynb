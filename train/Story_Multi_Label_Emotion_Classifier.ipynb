{
  "nbformat": 4,
  "nbformat_minor": 0,
  "metadata": {
    "colab": {
      "name": "Story_Multi_Label_Emotion_Classifier_TTA.ipynb",
      "provenance": [],
      "collapsed_sections": [],
      "toc_visible": true
    },
    "kernelspec": {
      "name": "python3",
      "display_name": "Python 3"
    },
    "accelerator": "GPU",
    "widgets": {
      "application/vnd.jupyter.widget-state+json": {
        "3754223f901646babc326944d9e11f0f": {
          "model_module": "@jupyter-widgets/controls",
          "model_name": "HBoxModel",
          "state": {
            "_view_name": "HBoxView",
            "_dom_classes": [],
            "_model_name": "HBoxModel",
            "_view_module": "@jupyter-widgets/controls",
            "_model_module_version": "1.5.0",
            "_view_count": null,
            "_view_module_version": "1.5.0",
            "box_style": "",
            "layout": "IPY_MODEL_178cb9b1982648ef95eb455f939179f9",
            "_model_module": "@jupyter-widgets/controls",
            "children": [
              "IPY_MODEL_a38b1a3a77c242e5be860d3fc84da5a5",
              "IPY_MODEL_8e1c30b3f11944ebbaeaed5b4d592590"
            ]
          }
        },
        "178cb9b1982648ef95eb455f939179f9": {
          "model_module": "@jupyter-widgets/base",
          "model_name": "LayoutModel",
          "state": {
            "_view_name": "LayoutView",
            "grid_template_rows": null,
            "right": null,
            "justify_content": null,
            "_view_module": "@jupyter-widgets/base",
            "overflow": null,
            "_model_module_version": "1.2.0",
            "_view_count": null,
            "flex_flow": null,
            "width": null,
            "min_width": null,
            "border": null,
            "align_items": null,
            "bottom": null,
            "_model_module": "@jupyter-widgets/base",
            "top": null,
            "grid_column": null,
            "overflow_y": null,
            "overflow_x": null,
            "grid_auto_flow": null,
            "grid_area": null,
            "grid_template_columns": null,
            "flex": null,
            "_model_name": "LayoutModel",
            "justify_items": null,
            "grid_row": null,
            "max_height": null,
            "align_content": null,
            "visibility": null,
            "align_self": null,
            "height": null,
            "min_height": null,
            "padding": null,
            "grid_auto_rows": null,
            "grid_gap": null,
            "max_width": null,
            "order": null,
            "_view_module_version": "1.2.0",
            "grid_template_areas": null,
            "object_position": null,
            "object_fit": null,
            "grid_auto_columns": null,
            "margin": null,
            "display": null,
            "left": null
          }
        },
        "a38b1a3a77c242e5be860d3fc84da5a5": {
          "model_module": "@jupyter-widgets/controls",
          "model_name": "FloatProgressModel",
          "state": {
            "_view_name": "ProgressView",
            "style": "IPY_MODEL_751f0c5599ec4a62adf59259125150f0",
            "_dom_classes": [],
            "description": "100%",
            "_model_name": "FloatProgressModel",
            "bar_style": "success",
            "max": 11636,
            "_view_module": "@jupyter-widgets/controls",
            "_model_module_version": "1.5.0",
            "value": 11636,
            "_view_count": null,
            "_view_module_version": "1.5.0",
            "orientation": "horizontal",
            "min": 0,
            "description_tooltip": null,
            "_model_module": "@jupyter-widgets/controls",
            "layout": "IPY_MODEL_004c8a9801fe4d7a9c31cc0015cd067d"
          }
        },
        "8e1c30b3f11944ebbaeaed5b4d592590": {
          "model_module": "@jupyter-widgets/controls",
          "model_name": "HTMLModel",
          "state": {
            "_view_name": "HTMLView",
            "style": "IPY_MODEL_d4ce8f3b15a94a8082d65e3234eb9098",
            "_dom_classes": [],
            "description": "",
            "_model_name": "HTMLModel",
            "placeholder": "​",
            "_view_module": "@jupyter-widgets/controls",
            "_model_module_version": "1.5.0",
            "value": " 11636/11636 [00:24&lt;00:00, 475.75it/s]",
            "_view_count": null,
            "_view_module_version": "1.5.0",
            "description_tooltip": null,
            "_model_module": "@jupyter-widgets/controls",
            "layout": "IPY_MODEL_f8231b199d1d4ab1b6c89991afe48563"
          }
        },
        "751f0c5599ec4a62adf59259125150f0": {
          "model_module": "@jupyter-widgets/controls",
          "model_name": "ProgressStyleModel",
          "state": {
            "_view_name": "StyleView",
            "_model_name": "ProgressStyleModel",
            "description_width": "initial",
            "_view_module": "@jupyter-widgets/base",
            "_model_module_version": "1.5.0",
            "_view_count": null,
            "_view_module_version": "1.2.0",
            "bar_color": null,
            "_model_module": "@jupyter-widgets/controls"
          }
        },
        "004c8a9801fe4d7a9c31cc0015cd067d": {
          "model_module": "@jupyter-widgets/base",
          "model_name": "LayoutModel",
          "state": {
            "_view_name": "LayoutView",
            "grid_template_rows": null,
            "right": null,
            "justify_content": null,
            "_view_module": "@jupyter-widgets/base",
            "overflow": null,
            "_model_module_version": "1.2.0",
            "_view_count": null,
            "flex_flow": null,
            "width": null,
            "min_width": null,
            "border": null,
            "align_items": null,
            "bottom": null,
            "_model_module": "@jupyter-widgets/base",
            "top": null,
            "grid_column": null,
            "overflow_y": null,
            "overflow_x": null,
            "grid_auto_flow": null,
            "grid_area": null,
            "grid_template_columns": null,
            "flex": null,
            "_model_name": "LayoutModel",
            "justify_items": null,
            "grid_row": null,
            "max_height": null,
            "align_content": null,
            "visibility": null,
            "align_self": null,
            "height": null,
            "min_height": null,
            "padding": null,
            "grid_auto_rows": null,
            "grid_gap": null,
            "max_width": null,
            "order": null,
            "_view_module_version": "1.2.0",
            "grid_template_areas": null,
            "object_position": null,
            "object_fit": null,
            "grid_auto_columns": null,
            "margin": null,
            "display": null,
            "left": null
          }
        },
        "d4ce8f3b15a94a8082d65e3234eb9098": {
          "model_module": "@jupyter-widgets/controls",
          "model_name": "DescriptionStyleModel",
          "state": {
            "_view_name": "StyleView",
            "_model_name": "DescriptionStyleModel",
            "description_width": "",
            "_view_module": "@jupyter-widgets/base",
            "_model_module_version": "1.5.0",
            "_view_count": null,
            "_view_module_version": "1.2.0",
            "_model_module": "@jupyter-widgets/controls"
          }
        },
        "f8231b199d1d4ab1b6c89991afe48563": {
          "model_module": "@jupyter-widgets/base",
          "model_name": "LayoutModel",
          "state": {
            "_view_name": "LayoutView",
            "grid_template_rows": null,
            "right": null,
            "justify_content": null,
            "_view_module": "@jupyter-widgets/base",
            "overflow": null,
            "_model_module_version": "1.2.0",
            "_view_count": null,
            "flex_flow": null,
            "width": null,
            "min_width": null,
            "border": null,
            "align_items": null,
            "bottom": null,
            "_model_module": "@jupyter-widgets/base",
            "top": null,
            "grid_column": null,
            "overflow_y": null,
            "overflow_x": null,
            "grid_auto_flow": null,
            "grid_area": null,
            "grid_template_columns": null,
            "flex": null,
            "_model_name": "LayoutModel",
            "justify_items": null,
            "grid_row": null,
            "max_height": null,
            "align_content": null,
            "visibility": null,
            "align_self": null,
            "height": null,
            "min_height": null,
            "padding": null,
            "grid_auto_rows": null,
            "grid_gap": null,
            "max_width": null,
            "order": null,
            "_view_module_version": "1.2.0",
            "grid_template_areas": null,
            "object_position": null,
            "object_fit": null,
            "grid_auto_columns": null,
            "margin": null,
            "display": null,
            "left": null
          }
        },
        "27b6eed8cddf439da28aa496ca564965": {
          "model_module": "@jupyter-widgets/controls",
          "model_name": "HBoxModel",
          "state": {
            "_view_name": "HBoxView",
            "_dom_classes": [],
            "_model_name": "HBoxModel",
            "_view_module": "@jupyter-widgets/controls",
            "_model_module_version": "1.5.0",
            "_view_count": null,
            "_view_module_version": "1.5.0",
            "box_style": "",
            "layout": "IPY_MODEL_05916ef0ceee42a89a31f456f633c5e3",
            "_model_module": "@jupyter-widgets/controls",
            "children": [
              "IPY_MODEL_2a36d16d582243f3900e185d1c38cd4f",
              "IPY_MODEL_d1117ad0eaf546e391bd9cc0919d67d3"
            ]
          }
        },
        "05916ef0ceee42a89a31f456f633c5e3": {
          "model_module": "@jupyter-widgets/base",
          "model_name": "LayoutModel",
          "state": {
            "_view_name": "LayoutView",
            "grid_template_rows": null,
            "right": null,
            "justify_content": null,
            "_view_module": "@jupyter-widgets/base",
            "overflow": null,
            "_model_module_version": "1.2.0",
            "_view_count": null,
            "flex_flow": null,
            "width": null,
            "min_width": null,
            "border": null,
            "align_items": null,
            "bottom": null,
            "_model_module": "@jupyter-widgets/base",
            "top": null,
            "grid_column": null,
            "overflow_y": null,
            "overflow_x": null,
            "grid_auto_flow": null,
            "grid_area": null,
            "grid_template_columns": null,
            "flex": null,
            "_model_name": "LayoutModel",
            "justify_items": null,
            "grid_row": null,
            "max_height": null,
            "align_content": null,
            "visibility": null,
            "align_self": null,
            "height": null,
            "min_height": null,
            "padding": null,
            "grid_auto_rows": null,
            "grid_gap": null,
            "max_width": null,
            "order": null,
            "_view_module_version": "1.2.0",
            "grid_template_areas": null,
            "object_position": null,
            "object_fit": null,
            "grid_auto_columns": null,
            "margin": null,
            "display": null,
            "left": null
          }
        },
        "2a36d16d582243f3900e185d1c38cd4f": {
          "model_module": "@jupyter-widgets/controls",
          "model_name": "FloatProgressModel",
          "state": {
            "_view_name": "ProgressView",
            "style": "IPY_MODEL_3cea338b69424bf698b31560b428a8bb",
            "_dom_classes": [],
            "description": "100%",
            "_model_name": "FloatProgressModel",
            "bar_style": "success",
            "max": 7757,
            "_view_module": "@jupyter-widgets/controls",
            "_model_module_version": "1.5.0",
            "value": 7757,
            "_view_count": null,
            "_view_module_version": "1.5.0",
            "orientation": "horizontal",
            "min": 0,
            "description_tooltip": null,
            "_model_module": "@jupyter-widgets/controls",
            "layout": "IPY_MODEL_a6f84db5f9964ebe9afd42955111409a"
          }
        },
        "d1117ad0eaf546e391bd9cc0919d67d3": {
          "model_module": "@jupyter-widgets/controls",
          "model_name": "HTMLModel",
          "state": {
            "_view_name": "HTMLView",
            "style": "IPY_MODEL_5928937ff30743a183199d37dd3c54d5",
            "_dom_classes": [],
            "description": "",
            "_model_name": "HTMLModel",
            "placeholder": "​",
            "_view_module": "@jupyter-widgets/controls",
            "_model_module_version": "1.5.0",
            "value": " 7757/7757 [00:15&lt;00:00, 501.56it/s]",
            "_view_count": null,
            "_view_module_version": "1.5.0",
            "description_tooltip": null,
            "_model_module": "@jupyter-widgets/controls",
            "layout": "IPY_MODEL_10055768161f4455bbf93afddf8a7dea"
          }
        },
        "3cea338b69424bf698b31560b428a8bb": {
          "model_module": "@jupyter-widgets/controls",
          "model_name": "ProgressStyleModel",
          "state": {
            "_view_name": "StyleView",
            "_model_name": "ProgressStyleModel",
            "description_width": "initial",
            "_view_module": "@jupyter-widgets/base",
            "_model_module_version": "1.5.0",
            "_view_count": null,
            "_view_module_version": "1.2.0",
            "bar_color": null,
            "_model_module": "@jupyter-widgets/controls"
          }
        },
        "a6f84db5f9964ebe9afd42955111409a": {
          "model_module": "@jupyter-widgets/base",
          "model_name": "LayoutModel",
          "state": {
            "_view_name": "LayoutView",
            "grid_template_rows": null,
            "right": null,
            "justify_content": null,
            "_view_module": "@jupyter-widgets/base",
            "overflow": null,
            "_model_module_version": "1.2.0",
            "_view_count": null,
            "flex_flow": null,
            "width": null,
            "min_width": null,
            "border": null,
            "align_items": null,
            "bottom": null,
            "_model_module": "@jupyter-widgets/base",
            "top": null,
            "grid_column": null,
            "overflow_y": null,
            "overflow_x": null,
            "grid_auto_flow": null,
            "grid_area": null,
            "grid_template_columns": null,
            "flex": null,
            "_model_name": "LayoutModel",
            "justify_items": null,
            "grid_row": null,
            "max_height": null,
            "align_content": null,
            "visibility": null,
            "align_self": null,
            "height": null,
            "min_height": null,
            "padding": null,
            "grid_auto_rows": null,
            "grid_gap": null,
            "max_width": null,
            "order": null,
            "_view_module_version": "1.2.0",
            "grid_template_areas": null,
            "object_position": null,
            "object_fit": null,
            "grid_auto_columns": null,
            "margin": null,
            "display": null,
            "left": null
          }
        },
        "5928937ff30743a183199d37dd3c54d5": {
          "model_module": "@jupyter-widgets/controls",
          "model_name": "DescriptionStyleModel",
          "state": {
            "_view_name": "StyleView",
            "_model_name": "DescriptionStyleModel",
            "description_width": "",
            "_view_module": "@jupyter-widgets/base",
            "_model_module_version": "1.5.0",
            "_view_count": null,
            "_view_module_version": "1.2.0",
            "_model_module": "@jupyter-widgets/controls"
          }
        },
        "10055768161f4455bbf93afddf8a7dea": {
          "model_module": "@jupyter-widgets/base",
          "model_name": "LayoutModel",
          "state": {
            "_view_name": "LayoutView",
            "grid_template_rows": null,
            "right": null,
            "justify_content": null,
            "_view_module": "@jupyter-widgets/base",
            "overflow": null,
            "_model_module_version": "1.2.0",
            "_view_count": null,
            "flex_flow": null,
            "width": null,
            "min_width": null,
            "border": null,
            "align_items": null,
            "bottom": null,
            "_model_module": "@jupyter-widgets/base",
            "top": null,
            "grid_column": null,
            "overflow_y": null,
            "overflow_x": null,
            "grid_auto_flow": null,
            "grid_area": null,
            "grid_template_columns": null,
            "flex": null,
            "_model_name": "LayoutModel",
            "justify_items": null,
            "grid_row": null,
            "max_height": null,
            "align_content": null,
            "visibility": null,
            "align_self": null,
            "height": null,
            "min_height": null,
            "padding": null,
            "grid_auto_rows": null,
            "grid_gap": null,
            "max_width": null,
            "order": null,
            "_view_module_version": "1.2.0",
            "grid_template_areas": null,
            "object_position": null,
            "object_fit": null,
            "grid_auto_columns": null,
            "margin": null,
            "display": null,
            "left": null
          }
        },
        "67cb48158f904f34a4380635938dda49": {
          "model_module": "@jupyter-widgets/controls",
          "model_name": "HBoxModel",
          "state": {
            "_view_name": "HBoxView",
            "_dom_classes": [],
            "_model_name": "HBoxModel",
            "_view_module": "@jupyter-widgets/controls",
            "_model_module_version": "1.5.0",
            "_view_count": null,
            "_view_module_version": "1.5.0",
            "box_style": "",
            "layout": "IPY_MODEL_3f8a20ebc33a414aba8852dcfe7e5c12",
            "_model_module": "@jupyter-widgets/controls",
            "children": [
              "IPY_MODEL_b4232b3f71944807b0c7bbbd9e427516",
              "IPY_MODEL_f630fcb28e374255999f9162bee26f39"
            ]
          }
        },
        "3f8a20ebc33a414aba8852dcfe7e5c12": {
          "model_module": "@jupyter-widgets/base",
          "model_name": "LayoutModel",
          "state": {
            "_view_name": "LayoutView",
            "grid_template_rows": null,
            "right": null,
            "justify_content": null,
            "_view_module": "@jupyter-widgets/base",
            "overflow": null,
            "_model_module_version": "1.2.0",
            "_view_count": null,
            "flex_flow": null,
            "width": null,
            "min_width": null,
            "border": null,
            "align_items": null,
            "bottom": null,
            "_model_module": "@jupyter-widgets/base",
            "top": null,
            "grid_column": null,
            "overflow_y": null,
            "overflow_x": null,
            "grid_auto_flow": null,
            "grid_area": null,
            "grid_template_columns": null,
            "flex": null,
            "_model_name": "LayoutModel",
            "justify_items": null,
            "grid_row": null,
            "max_height": null,
            "align_content": null,
            "visibility": null,
            "align_self": null,
            "height": null,
            "min_height": null,
            "padding": null,
            "grid_auto_rows": null,
            "grid_gap": null,
            "max_width": null,
            "order": null,
            "_view_module_version": "1.2.0",
            "grid_template_areas": null,
            "object_position": null,
            "object_fit": null,
            "grid_auto_columns": null,
            "margin": null,
            "display": null,
            "left": null
          }
        },
        "b4232b3f71944807b0c7bbbd9e427516": {
          "model_module": "@jupyter-widgets/controls",
          "model_name": "FloatProgressModel",
          "state": {
            "_view_name": "ProgressView",
            "style": "IPY_MODEL_9bd1f0ed07fc4b069238b5f9cd8c667a",
            "_dom_classes": [],
            "description": "",
            "_model_name": "FloatProgressModel",
            "bar_style": "success",
            "max": 242,
            "_view_module": "@jupyter-widgets/controls",
            "_model_module_version": "1.5.0",
            "value": 242,
            "_view_count": null,
            "_view_module_version": "1.5.0",
            "orientation": "horizontal",
            "min": 0,
            "description_tooltip": null,
            "_model_module": "@jupyter-widgets/controls",
            "layout": "IPY_MODEL_ec1cdfc063fb4abcb7aeb9b9c7719920"
          }
        },
        "f630fcb28e374255999f9162bee26f39": {
          "model_module": "@jupyter-widgets/controls",
          "model_name": "HTMLModel",
          "state": {
            "_view_name": "HTMLView",
            "style": "IPY_MODEL_488bcda1093b48b38c5d468d24b5e612",
            "_dom_classes": [],
            "description": "",
            "_model_name": "HTMLModel",
            "placeholder": "​",
            "_view_module": "@jupyter-widgets/controls",
            "_model_module_version": "1.5.0",
            "value": " 243/? [00:38&lt;00:00,  6.25it/s]",
            "_view_count": null,
            "_view_module_version": "1.5.0",
            "description_tooltip": null,
            "_model_module": "@jupyter-widgets/controls",
            "layout": "IPY_MODEL_d1ecbbdbb8d747b5a035ecc9679f39b4"
          }
        },
        "9bd1f0ed07fc4b069238b5f9cd8c667a": {
          "model_module": "@jupyter-widgets/controls",
          "model_name": "ProgressStyleModel",
          "state": {
            "_view_name": "StyleView",
            "_model_name": "ProgressStyleModel",
            "description_width": "initial",
            "_view_module": "@jupyter-widgets/base",
            "_model_module_version": "1.5.0",
            "_view_count": null,
            "_view_module_version": "1.2.0",
            "bar_color": null,
            "_model_module": "@jupyter-widgets/controls"
          }
        },
        "ec1cdfc063fb4abcb7aeb9b9c7719920": {
          "model_module": "@jupyter-widgets/base",
          "model_name": "LayoutModel",
          "state": {
            "_view_name": "LayoutView",
            "grid_template_rows": null,
            "right": null,
            "justify_content": null,
            "_view_module": "@jupyter-widgets/base",
            "overflow": null,
            "_model_module_version": "1.2.0",
            "_view_count": null,
            "flex_flow": null,
            "width": null,
            "min_width": null,
            "border": null,
            "align_items": null,
            "bottom": null,
            "_model_module": "@jupyter-widgets/base",
            "top": null,
            "grid_column": null,
            "overflow_y": null,
            "overflow_x": null,
            "grid_auto_flow": null,
            "grid_area": null,
            "grid_template_columns": null,
            "flex": null,
            "_model_name": "LayoutModel",
            "justify_items": null,
            "grid_row": null,
            "max_height": null,
            "align_content": null,
            "visibility": null,
            "align_self": null,
            "height": null,
            "min_height": null,
            "padding": null,
            "grid_auto_rows": null,
            "grid_gap": null,
            "max_width": null,
            "order": null,
            "_view_module_version": "1.2.0",
            "grid_template_areas": null,
            "object_position": null,
            "object_fit": null,
            "grid_auto_columns": null,
            "margin": null,
            "display": null,
            "left": null
          }
        },
        "488bcda1093b48b38c5d468d24b5e612": {
          "model_module": "@jupyter-widgets/controls",
          "model_name": "DescriptionStyleModel",
          "state": {
            "_view_name": "StyleView",
            "_model_name": "DescriptionStyleModel",
            "description_width": "",
            "_view_module": "@jupyter-widgets/base",
            "_model_module_version": "1.5.0",
            "_view_count": null,
            "_view_module_version": "1.2.0",
            "_model_module": "@jupyter-widgets/controls"
          }
        },
        "d1ecbbdbb8d747b5a035ecc9679f39b4": {
          "model_module": "@jupyter-widgets/base",
          "model_name": "LayoutModel",
          "state": {
            "_view_name": "LayoutView",
            "grid_template_rows": null,
            "right": null,
            "justify_content": null,
            "_view_module": "@jupyter-widgets/base",
            "overflow": null,
            "_model_module_version": "1.2.0",
            "_view_count": null,
            "flex_flow": null,
            "width": null,
            "min_width": null,
            "border": null,
            "align_items": null,
            "bottom": null,
            "_model_module": "@jupyter-widgets/base",
            "top": null,
            "grid_column": null,
            "overflow_y": null,
            "overflow_x": null,
            "grid_auto_flow": null,
            "grid_area": null,
            "grid_template_columns": null,
            "flex": null,
            "_model_name": "LayoutModel",
            "justify_items": null,
            "grid_row": null,
            "max_height": null,
            "align_content": null,
            "visibility": null,
            "align_self": null,
            "height": null,
            "min_height": null,
            "padding": null,
            "grid_auto_rows": null,
            "grid_gap": null,
            "max_width": null,
            "order": null,
            "_view_module_version": "1.2.0",
            "grid_template_areas": null,
            "object_position": null,
            "object_fit": null,
            "grid_auto_columns": null,
            "margin": null,
            "display": null,
            "left": null
          }
        }
      }
    }
  },
  "cells": [
    {
      "cell_type": "markdown",
      "metadata": {
        "id": "_noiavB1ZxnB"
      },
      "source": [
        "---------------"
      ]
    },
    {
      "cell_type": "markdown",
      "metadata": {
        "id": "jkOrI22PWOyL"
      },
      "source": [
        "## 1. Loading the datasets from CSVs\n",
        "- ~~[데이터셋 링크](https://uwnlp.github.io/storycommonsense/) 에서 [download the data]를 클릭해 다운로드 해주세요.~~  \n",
        "- ~~다운받은 storycommonsense_data.zip 파일을 업로드 해주세요.~~\n",
        "- 위의 과정을 wget 명령어로 코드 줄에서 해결합니다. (다운로드->업로드 과정 생략)\n",
        "- 아래 코드로 압축을 푼 다음, /content/csv_version 경로 안의 dev/emotion, test/emotion 안의 csv 파일을 합친 후 6:4 비율로 각각 나눠 train과 test 데이터셋으로 사용합니다. (training 폴더 안의 csv 파일은 plutchik의 8가지 감정을 분류되어 있지 않기 때문에, dev의 csv파일을 사용합니다.)\n"
      ]
    },
    {
      "cell_type": "code",
      "metadata": {
        "colab": {
          "base_uri": "https://localhost:8080/"
        },
        "id": "idtH5tdgW7B0",
        "outputId": "a11c7327-a6ce-4566-d386-1b0a39a6045d"
      },
      "source": [
        "!wget https://uwnlp.github.io/storycommonsense/data/storycommonsense_data.zip "
      ],
      "execution_count": 1,
      "outputs": [
        {
          "output_type": "stream",
          "text": [
            "--2020-12-10 13:41:07--  https://uwnlp.github.io/storycommonsense/data/storycommonsense_data.zip\n",
            "Resolving uwnlp.github.io (uwnlp.github.io)... 185.199.108.153, 185.199.109.153, 185.199.110.153, ...\n",
            "Connecting to uwnlp.github.io (uwnlp.github.io)|185.199.108.153|:443... connected.\n",
            "HTTP request sent, awaiting response... 200 OK\n",
            "Length: 18755402 (18M) [application/zip]\n",
            "Saving to: ‘storycommonsense_data.zip’\n",
            "\n",
            "storycommonsense_da 100%[===================>]  17.89M  --.-KB/s    in 0.1s    \n",
            "\n",
            "2020-12-10 13:41:07 (188 MB/s) - ‘storycommonsense_data.zip’ saved [18755402/18755402]\n",
            "\n"
          ],
          "name": "stdout"
        }
      ]
    },
    {
      "cell_type": "code",
      "metadata": {
        "colab": {
          "base_uri": "https://localhost:8080/"
        },
        "id": "zavHytk3WOyL",
        "outputId": "57eda39a-323a-42c9-e31e-0b33a0d2b4ca"
      },
      "source": [
        "!unzip /content/storycommonsense_data.zip"
      ],
      "execution_count": 2,
      "outputs": [
        {
          "output_type": "stream",
          "text": [
            "Archive:  /content/storycommonsense_data.zip\n",
            "   creating: csv_version/\n",
            "   creating: csv_version/dev/\n",
            "   creating: csv_version/dev/emotion/\n",
            "  inflating: csv_version/dev/emotion/allcharlinepairs.csv  \n",
            "   creating: csv_version/dev/motiv/\n",
            "  inflating: csv_version/dev/motiv/allcharlinepairs.csv  \n",
            "  inflating: csv_version/README.txt  \n",
            "   creating: csv_version/test/\n",
            "   creating: csv_version/test/emotion/\n",
            "  inflating: csv_version/test/emotion/allcharlinepairs.csv  \n",
            "   creating: csv_version/test/motiv/\n",
            "  inflating: csv_version/test/motiv/allcharlinepairs.csv  \n",
            "   creating: csv_version/training/\n",
            "  inflating: csv_version/training/allcharlinepairs.csv  \n",
            "   creating: csv_version/characters/\n",
            "  inflating: csv_version/characters/entitylines_devtest.csv  \n",
            "  inflating: csv_version/characters/entitylines_train.csv  \n",
            "   creating: json_version/\n",
            "  inflating: json_version/README.txt  \n",
            "  inflating: json_version/annotations.json  \n",
            "  inflating: README.txt              \n",
            "  inflating: rocstorysubset.csv      \n",
            "  inflating: storyid_partition.txt   \n"
          ],
          "name": "stdout"
        }
      ]
    },
    {
      "cell_type": "code",
      "metadata": {
        "id": "ypUFRWHgWOyL"
      },
      "source": [
        "import pandas as pd"
      ],
      "execution_count": 3,
      "outputs": []
    },
    {
      "cell_type": "code",
      "metadata": {
        "id": "quiZ54gPWOyL"
      },
      "source": [
        "train = pd.read_csv('/content/csv_version/dev/emotion/allcharlinepairs.csv')\n",
        "test = pd.read_csv('/content/csv_version/test/emotion/allcharlinepairs.csv')"
      ],
      "execution_count": 4,
      "outputs": []
    },
    {
      "cell_type": "code",
      "metadata": {
        "colab": {
          "base_uri": "https://localhost:8080/",
          "height": 193
        },
        "id": "WC-RLX6YWOyL",
        "outputId": "b577dbdb-8433-40eb-8b9e-94e28fbdceac"
      },
      "source": [
        "train.head(3)"
      ],
      "execution_count": 5,
      "outputs": [
        {
          "output_type": "execute_result",
          "data": {
            "text/html": [
              "<div>\n",
              "<style scoped>\n",
              "    .dataframe tbody tr th:only-of-type {\n",
              "        vertical-align: middle;\n",
              "    }\n",
              "\n",
              "    .dataframe tbody tr th {\n",
              "        vertical-align: top;\n",
              "    }\n",
              "\n",
              "    .dataframe thead th {\n",
              "        text-align: right;\n",
              "    }\n",
              "</style>\n",
              "<table border=\"1\" class=\"dataframe\">\n",
              "  <thead>\n",
              "    <tr style=\"text-align: right;\">\n",
              "      <th></th>\n",
              "      <th>storyid</th>\n",
              "      <th>linenum</th>\n",
              "      <th>char</th>\n",
              "      <th>emotionworkerid</th>\n",
              "      <th>context</th>\n",
              "      <th>sentence</th>\n",
              "      <th>affected</th>\n",
              "      <th>emotion</th>\n",
              "      <th>plutchik</th>\n",
              "    </tr>\n",
              "  </thead>\n",
              "  <tbody>\n",
              "    <tr>\n",
              "      <th>0</th>\n",
              "      <td>a2ddbb50-e45b-4ad3-becf-b2d8475172bf</td>\n",
              "      <td>1</td>\n",
              "      <td>I (myself)</td>\n",
              "      <td>ann0</td>\n",
              "      <td>NaN</td>\n",
              "      <td>I began making fish curry for my boyfriend and I.</td>\n",
              "      <td>yes</td>\n",
              "      <td>[\"Joy and excited to be making the food\"]</td>\n",
              "      <td>[\"joy:3\", \"trust:3\", \"surprise:3\", \"anticipati...</td>\n",
              "    </tr>\n",
              "    <tr>\n",
              "      <th>1</th>\n",
              "      <td>a2ddbb50-e45b-4ad3-becf-b2d8475172bf</td>\n",
              "      <td>1</td>\n",
              "      <td>I (myself)</td>\n",
              "      <td>ann1</td>\n",
              "      <td>NaN</td>\n",
              "      <td>I began making fish curry for my boyfriend and I.</td>\n",
              "      <td>yes</td>\n",
              "      <td>[\"content\"]</td>\n",
              "      <td>[\"joy:2\"]</td>\n",
              "    </tr>\n",
              "    <tr>\n",
              "      <th>2</th>\n",
              "      <td>a2ddbb50-e45b-4ad3-becf-b2d8475172bf</td>\n",
              "      <td>1</td>\n",
              "      <td>I (myself)</td>\n",
              "      <td>ann2</td>\n",
              "      <td>NaN</td>\n",
              "      <td>I began making fish curry for my boyfriend and I.</td>\n",
              "      <td>yes</td>\n",
              "      <td>[\"hungry\", \"anticipation\"]</td>\n",
              "      <td>[\"joy:2\", \"anticipation:3\"]</td>\n",
              "    </tr>\n",
              "  </tbody>\n",
              "</table>\n",
              "</div>"
            ],
            "text/plain": [
              "                                storyid  ...                                           plutchik\n",
              "0  a2ddbb50-e45b-4ad3-becf-b2d8475172bf  ...  [\"joy:3\", \"trust:3\", \"surprise:3\", \"anticipati...\n",
              "1  a2ddbb50-e45b-4ad3-becf-b2d8475172bf  ...                                          [\"joy:2\"]\n",
              "2  a2ddbb50-e45b-4ad3-becf-b2d8475172bf  ...                        [\"joy:2\", \"anticipation:3\"]\n",
              "\n",
              "[3 rows x 9 columns]"
            ]
          },
          "metadata": {
            "tags": []
          },
          "execution_count": 5
        }
      ]
    },
    {
      "cell_type": "code",
      "metadata": {
        "colab": {
          "base_uri": "https://localhost:8080/",
          "height": 193
        },
        "id": "C89zwpE1WOyL",
        "outputId": "b7dac7e0-47e9-43ab-dfd8-c6fce022e4ba"
      },
      "source": [
        "test.head(3)"
      ],
      "execution_count": 6,
      "outputs": [
        {
          "output_type": "execute_result",
          "data": {
            "text/html": [
              "<div>\n",
              "<style scoped>\n",
              "    .dataframe tbody tr th:only-of-type {\n",
              "        vertical-align: middle;\n",
              "    }\n",
              "\n",
              "    .dataframe tbody tr th {\n",
              "        vertical-align: top;\n",
              "    }\n",
              "\n",
              "    .dataframe thead th {\n",
              "        text-align: right;\n",
              "    }\n",
              "</style>\n",
              "<table border=\"1\" class=\"dataframe\">\n",
              "  <thead>\n",
              "    <tr style=\"text-align: right;\">\n",
              "      <th></th>\n",
              "      <th>storyid</th>\n",
              "      <th>linenum</th>\n",
              "      <th>char</th>\n",
              "      <th>emotionworkerid</th>\n",
              "      <th>context</th>\n",
              "      <th>sentence</th>\n",
              "      <th>affected</th>\n",
              "      <th>emotion</th>\n",
              "      <th>plutchik</th>\n",
              "    </tr>\n",
              "  </thead>\n",
              "  <tbody>\n",
              "    <tr>\n",
              "      <th>0</th>\n",
              "      <td>a3e66276-ef27-426f-8a2f-329779f17038</td>\n",
              "      <td>1</td>\n",
              "      <td>Cook</td>\n",
              "      <td>ann0</td>\n",
              "      <td>NaN</td>\n",
              "      <td>A cook was carrying an armful of oranged in th...</td>\n",
              "      <td>yes</td>\n",
              "      <td>[\"joy\"]</td>\n",
              "      <td>[\"joy:3\", \"trust:3\", \"surprise:2\", \"anticipati...</td>\n",
              "    </tr>\n",
              "    <tr>\n",
              "      <th>1</th>\n",
              "      <td>a3e66276-ef27-426f-8a2f-329779f17038</td>\n",
              "      <td>1</td>\n",
              "      <td>Cook</td>\n",
              "      <td>ann1</td>\n",
              "      <td>NaN</td>\n",
              "      <td>A cook was carrying an armful of oranged in th...</td>\n",
              "      <td>yes</td>\n",
              "      <td>[\"useful\", \"nervous\"]</td>\n",
              "      <td>[\"joy:2\", \"anticipation:2\"]</td>\n",
              "    </tr>\n",
              "    <tr>\n",
              "      <th>2</th>\n",
              "      <td>a3e66276-ef27-426f-8a2f-329779f17038</td>\n",
              "      <td>2</td>\n",
              "      <td>Cook</td>\n",
              "      <td>ann0</td>\n",
              "      <td>A cook was carrying an armful of oranged in th...</td>\n",
              "      <td>He dropped one on the floor by accident.</td>\n",
              "      <td>yes</td>\n",
              "      <td>[\"annoyed\"]</td>\n",
              "      <td>[\"fear:2\", \"surprise:2\", \"anticipation:2\"]</td>\n",
              "    </tr>\n",
              "  </tbody>\n",
              "</table>\n",
              "</div>"
            ],
            "text/plain": [
              "                                storyid  ...                                           plutchik\n",
              "0  a3e66276-ef27-426f-8a2f-329779f17038  ...  [\"joy:3\", \"trust:3\", \"surprise:2\", \"anticipati...\n",
              "1  a3e66276-ef27-426f-8a2f-329779f17038  ...                        [\"joy:2\", \"anticipation:2\"]\n",
              "2  a3e66276-ef27-426f-8a2f-329779f17038  ...         [\"fear:2\", \"surprise:2\", \"anticipation:2\"]\n",
              "\n",
              "[3 rows x 9 columns]"
            ]
          },
          "metadata": {
            "tags": []
          },
          "execution_count": 6
        }
      ]
    },
    {
      "cell_type": "markdown",
      "metadata": {
        "id": "SN8K99tnWOyL"
      },
      "source": [
        "### 1.1 3명의 annotator가 태깅한 문장 추출\n",
        "- setence : 문장\n",
        "- ann0 : annotator A가 태깅한 해당 문장에서 느껴지는 감정 리스트\n",
        "- ann1 : annotator B가 태깅한 해당 문장에서 느껴지는 감정 리스트\n",
        "- ann2 : annotator C가 태깅한 해당 문장에서 느껴지는 감정 리스트"
      ]
    },
    {
      "cell_type": "code",
      "metadata": {
        "id": "rtDagLaNWOyL"
      },
      "source": [
        "train = train.replace({'ann0':0,'ann1':1,'ann2':2})\n",
        "train.drop(train.loc[(train['emotionworkerid']!=0)&(train['emotionworkerid']!=1)&(train['emotionworkerid']!=2)].index, inplace=True)\n",
        "train = train.reset_index(drop=True)\n",
        "\n",
        "test = test.replace({'ann0':0,'ann1':1,'ann2':2})\n",
        "test.drop(test.loc[(test['emotionworkerid']!=0)&(test['emotionworkerid']!=1)&(test['emotionworkerid']!=2)].index, inplace=True)\n",
        "test = test.reset_index(drop=True)"
      ],
      "execution_count": 7,
      "outputs": []
    },
    {
      "cell_type": "code",
      "metadata": {
        "id": "9D9T1ZcXWOyM"
      },
      "source": [
        "def extract_3_anno(df):\n",
        "  ann0 = []\n",
        "  ann1 = []\n",
        "  ann2 = []\n",
        "  sentence = []\n",
        "  ann0_idx = []\n",
        "  ann1_idx = []\n",
        "  ann2_idx = []\n",
        "\n",
        "  storyid = str()\n",
        "  linenum = 0\n",
        "  has0 = None\n",
        "  has1 = None\n",
        "\n",
        "  cnt = 0\n",
        "  for idx in range(0,len(df)):\n",
        "    if storyid != df['storyid'][idx]:\n",
        "      storyid = df['storyid'][idx]\n",
        "    if linenum != df['linenum'][idx]:\n",
        "      linenum = df['linenum'][idx]\n",
        "    \n",
        "    if storyid == df['storyid'][idx] and linenum == df['linenum'][idx]:\n",
        "      if df['emotionworkerid'][idx] == 0:\n",
        "        df['emotionworkerid'][idx] == 0\n",
        "        has0 = idx\n",
        "      elif df['emotionworkerid'][idx] == 1:\n",
        "        has1 = idx\n",
        "      else:\n",
        "        if has0 !=None and has1 !=None:\n",
        "          ann0.append(df['plutchik'][has0])\n",
        "          ann1.append(df['plutchik'][has1])\n",
        "          ann2.append(df['plutchik'][idx])\n",
        "          sentence.append(df['sentence'][idx])\n",
        "          ann0_idx.append(has0)\n",
        "          ann1_idx.append(has1)\n",
        "          ann2_idx.append(idx)\n",
        "        cnt+=1\n",
        "    else:\n",
        "      has0 = None\n",
        "      has1 = None\n",
        "\n",
        "  ann0_df = df.loc[ann0_idx]\n",
        "  ann0_df = ann0_df.reset_index(drop=True)\n",
        "  ann1_df = df.loc[ann1_idx]\n",
        "  ann1_df = ann1_df.reset_index(drop=True)\n",
        "  ann2_df = df.loc[ann2_idx]\n",
        "  ann2_df = ann2_df.reset_index(drop=True)\n",
        "\n",
        "  result = pd.DataFrame(columns=['sentence', 'ann0','ann1','ann2'])\n",
        "  result['sentence'] = ann0_df['sentence']\n",
        "  result['ann0'] = ann0_df['plutchik']\n",
        "  result['ann1'] = ann1_df['plutchik']\n",
        "  result['ann2'] = ann2_df['plutchik']\n",
        "\n",
        "  return result"
      ],
      "execution_count": 8,
      "outputs": []
    },
    {
      "cell_type": "code",
      "metadata": {
        "id": "YangmiJEWOyM"
      },
      "source": [
        "train_anno = extract_3_anno(train)\n",
        "test_anno = extract_3_anno(test)"
      ],
      "execution_count": 9,
      "outputs": []
    },
    {
      "cell_type": "code",
      "metadata": {
        "colab": {
          "base_uri": "https://localhost:8080/",
          "height": 142
        },
        "id": "pNqUtNx5WOyM",
        "outputId": "4e079d62-de27-4741-aeda-4a8c693cf6b2"
      },
      "source": [
        "train_anno.head(3)"
      ],
      "execution_count": 10,
      "outputs": [
        {
          "output_type": "execute_result",
          "data": {
            "text/html": [
              "<div>\n",
              "<style scoped>\n",
              "    .dataframe tbody tr th:only-of-type {\n",
              "        vertical-align: middle;\n",
              "    }\n",
              "\n",
              "    .dataframe tbody tr th {\n",
              "        vertical-align: top;\n",
              "    }\n",
              "\n",
              "    .dataframe thead th {\n",
              "        text-align: right;\n",
              "    }\n",
              "</style>\n",
              "<table border=\"1\" class=\"dataframe\">\n",
              "  <thead>\n",
              "    <tr style=\"text-align: right;\">\n",
              "      <th></th>\n",
              "      <th>sentence</th>\n",
              "      <th>ann0</th>\n",
              "      <th>ann1</th>\n",
              "      <th>ann2</th>\n",
              "    </tr>\n",
              "  </thead>\n",
              "  <tbody>\n",
              "    <tr>\n",
              "      <th>0</th>\n",
              "      <td>I began making fish curry for my boyfriend and I.</td>\n",
              "      <td>[\"joy:3\", \"trust:3\", \"surprise:3\", \"anticipati...</td>\n",
              "      <td>[\"joy:2\"]</td>\n",
              "      <td>[\"joy:2\", \"anticipation:3\"]</td>\n",
              "    </tr>\n",
              "    <tr>\n",
              "      <th>1</th>\n",
              "      <td>I decided not to read a recipe since I've made...</td>\n",
              "      <td>[\"joy:2\", \"trust:2\", \"fear:3\", \"surprise:3\", \"...</td>\n",
              "      <td>[\"joy:3\", \"trust:3\", \"anticipation:3\"]</td>\n",
              "      <td>[\"joy:2\", \"trust:3\", \"anticipation:2\"]</td>\n",
              "    </tr>\n",
              "    <tr>\n",
              "      <th>2</th>\n",
              "      <td>I let the curry sit before tasting.</td>\n",
              "      <td>[\"fear:2\", \"anticipation:2\"]</td>\n",
              "      <td>[\"joy:2\", \"trust:3\"]</td>\n",
              "      <td>[\"joy:3\", \"trust:2\", \"surprise:2\", \"anticipati...</td>\n",
              "    </tr>\n",
              "  </tbody>\n",
              "</table>\n",
              "</div>"
            ],
            "text/plain": [
              "                                            sentence  ...                                               ann2\n",
              "0  I began making fish curry for my boyfriend and I.  ...                        [\"joy:2\", \"anticipation:3\"]\n",
              "1  I decided not to read a recipe since I've made...  ...             [\"joy:2\", \"trust:3\", \"anticipation:2\"]\n",
              "2                I let the curry sit before tasting.  ...  [\"joy:3\", \"trust:2\", \"surprise:2\", \"anticipati...\n",
              "\n",
              "[3 rows x 4 columns]"
            ]
          },
          "metadata": {
            "tags": []
          },
          "execution_count": 10
        }
      ]
    },
    {
      "cell_type": "code",
      "metadata": {
        "colab": {
          "base_uri": "https://localhost:8080/",
          "height": 142
        },
        "id": "0tPn7fsWWOyM",
        "outputId": "5954999a-ced8-4933-9e32-362e6eaf9831"
      },
      "source": [
        "test_anno.head(3)"
      ],
      "execution_count": 11,
      "outputs": [
        {
          "output_type": "execute_result",
          "data": {
            "text/html": [
              "<div>\n",
              "<style scoped>\n",
              "    .dataframe tbody tr th:only-of-type {\n",
              "        vertical-align: middle;\n",
              "    }\n",
              "\n",
              "    .dataframe tbody tr th {\n",
              "        vertical-align: top;\n",
              "    }\n",
              "\n",
              "    .dataframe thead th {\n",
              "        text-align: right;\n",
              "    }\n",
              "</style>\n",
              "<table border=\"1\" class=\"dataframe\">\n",
              "  <thead>\n",
              "    <tr style=\"text-align: right;\">\n",
              "      <th></th>\n",
              "      <th>sentence</th>\n",
              "      <th>ann0</th>\n",
              "      <th>ann1</th>\n",
              "      <th>ann2</th>\n",
              "    </tr>\n",
              "  </thead>\n",
              "  <tbody>\n",
              "    <tr>\n",
              "      <th>0</th>\n",
              "      <td>He dropped one on the floor by accident.</td>\n",
              "      <td>[\"fear:2\", \"surprise:2\", \"anticipation:2\"]</td>\n",
              "      <td>[\"disgust:2\", \"anger:3\"]</td>\n",
              "      <td>[\"surprise:2\", \"anger:2\"]</td>\n",
              "    </tr>\n",
              "    <tr>\n",
              "      <th>1</th>\n",
              "      <td>As a joke he pretended that it was a soccer ball.</td>\n",
              "      <td>[\"joy:2\"]</td>\n",
              "      <td>[\"joy:3\", \"trust:3\"]</td>\n",
              "      <td>[]</td>\n",
              "    </tr>\n",
              "    <tr>\n",
              "      <th>2</th>\n",
              "      <td>He kicked the orange across the kitchen.</td>\n",
              "      <td>[\"joy:3\", \"trust:3\", \"surprise:3\", \"anticipati...</td>\n",
              "      <td>[\"disgust:3\", \"anger:3\"]</td>\n",
              "      <td>[\"joy:3\", \"anticipation:2\"]</td>\n",
              "    </tr>\n",
              "  </tbody>\n",
              "</table>\n",
              "</div>"
            ],
            "text/plain": [
              "                                            sentence  ...                         ann2\n",
              "0           He dropped one on the floor by accident.  ...    [\"surprise:2\", \"anger:2\"]\n",
              "1  As a joke he pretended that it was a soccer ball.  ...                           []\n",
              "2           He kicked the orange across the kitchen.  ...  [\"joy:3\", \"anticipation:2\"]\n",
              "\n",
              "[3 rows x 4 columns]"
            ]
          },
          "metadata": {
            "tags": []
          },
          "execution_count": 11
        }
      ]
    },
    {
      "cell_type": "markdown",
      "metadata": {
        "id": "2HrGA8QmWOyM"
      },
      "source": [
        "### 1.2 2명 이상의 annotator가 태깅한 감정들 추출\n",
        "- annotator간의 일치도 평가를 위해 2명 이상의 annotator가 태깅한 감정들만 추출\n",
        "- 3명 중 2명 이상의 같은 결과는 kappa score 0.4 이상으로 판단할 수 있음"
      ]
    },
    {
      "cell_type": "code",
      "metadata": {
        "id": "GLH7BTYdWOyM"
      },
      "source": [
        "import re\n",
        "\n",
        "def anno_over_2_emotion(df):\n",
        "  idx = []\n",
        "  emotion = []\n",
        "\n",
        "  for i in range(0,len(df)):\n",
        "    a0 = re.sub('[^a-zA,]','',df['ann0'][i]).strip()\n",
        "    a0 = a0.split(sep=',')\n",
        "    a1 = re.sub('[^a-zA,]','',df['ann1'][i]).strip()\n",
        "    a1 = a1.split(sep=',')\n",
        "    a2 = re.sub('[^a-zA,]','',df['ann2'][i]).strip()\n",
        "    a2 = a2.split(sep=',')\n",
        "    \n",
        "    intersection = list(set(a0) & set(a1))\n",
        "    intersection2 = list(set(a1) & set(a2))\n",
        "    intersection3 = list(set(a0) & set(a2))\n",
        "\n",
        "    union = list(set().union(intersection,intersection2,intersection3))\n",
        "    if len(union) > 0 :\n",
        "      idx.append(i)\n",
        "      emotion.append(union)\n",
        "\n",
        "  df = df.loc[idx]\n",
        "\n",
        "  result = pd.DataFrame(columns=['sentence', 'label'])\n",
        "  result['sentence'] = df['sentence']\n",
        "  result['label'] = emotion\n",
        "  result = result.reset_index(drop=True)\n",
        "\n",
        "  return result"
      ],
      "execution_count": 12,
      "outputs": []
    },
    {
      "cell_type": "code",
      "metadata": {
        "id": "0HlfXrLaWOyM"
      },
      "source": [
        "train_emotion = anno_over_2_emotion(train_anno)\n",
        "test_emotion = anno_over_2_emotion(test_anno)"
      ],
      "execution_count": 13,
      "outputs": []
    },
    {
      "cell_type": "code",
      "metadata": {
        "colab": {
          "base_uri": "https://localhost:8080/",
          "height": 142
        },
        "id": "7eOWyXq_WOyM",
        "outputId": "2c215227-058c-4705-eb96-c90b6f427b34"
      },
      "source": [
        "train_emotion.head(3)"
      ],
      "execution_count": 14,
      "outputs": [
        {
          "output_type": "execute_result",
          "data": {
            "text/html": [
              "<div>\n",
              "<style scoped>\n",
              "    .dataframe tbody tr th:only-of-type {\n",
              "        vertical-align: middle;\n",
              "    }\n",
              "\n",
              "    .dataframe tbody tr th {\n",
              "        vertical-align: top;\n",
              "    }\n",
              "\n",
              "    .dataframe thead th {\n",
              "        text-align: right;\n",
              "    }\n",
              "</style>\n",
              "<table border=\"1\" class=\"dataframe\">\n",
              "  <thead>\n",
              "    <tr style=\"text-align: right;\">\n",
              "      <th></th>\n",
              "      <th>sentence</th>\n",
              "      <th>label</th>\n",
              "    </tr>\n",
              "  </thead>\n",
              "  <tbody>\n",
              "    <tr>\n",
              "      <th>0</th>\n",
              "      <td>I began making fish curry for my boyfriend and I.</td>\n",
              "      <td>[anticipation, joy]</td>\n",
              "    </tr>\n",
              "    <tr>\n",
              "      <th>1</th>\n",
              "      <td>I decided not to read a recipe since I've made...</td>\n",
              "      <td>[trust, anticipation, joy]</td>\n",
              "    </tr>\n",
              "    <tr>\n",
              "      <th>2</th>\n",
              "      <td>I let the curry sit before tasting.</td>\n",
              "      <td>[trust, anticipation, joy]</td>\n",
              "    </tr>\n",
              "  </tbody>\n",
              "</table>\n",
              "</div>"
            ],
            "text/plain": [
              "                                            sentence                       label\n",
              "0  I began making fish curry for my boyfriend and I.         [anticipation, joy]\n",
              "1  I decided not to read a recipe since I've made...  [trust, anticipation, joy]\n",
              "2                I let the curry sit before tasting.  [trust, anticipation, joy]"
            ]
          },
          "metadata": {
            "tags": []
          },
          "execution_count": 14
        }
      ]
    },
    {
      "cell_type": "code",
      "metadata": {
        "colab": {
          "base_uri": "https://localhost:8080/",
          "height": 142
        },
        "id": "Bwv_Oa6JWOyM",
        "outputId": "b60e1b04-f37a-4f02-d2f9-bf25f20e3354"
      },
      "source": [
        "test_emotion.head(3)"
      ],
      "execution_count": 15,
      "outputs": [
        {
          "output_type": "execute_result",
          "data": {
            "text/html": [
              "<div>\n",
              "<style scoped>\n",
              "    .dataframe tbody tr th:only-of-type {\n",
              "        vertical-align: middle;\n",
              "    }\n",
              "\n",
              "    .dataframe tbody tr th {\n",
              "        vertical-align: top;\n",
              "    }\n",
              "\n",
              "    .dataframe thead th {\n",
              "        text-align: right;\n",
              "    }\n",
              "</style>\n",
              "<table border=\"1\" class=\"dataframe\">\n",
              "  <thead>\n",
              "    <tr style=\"text-align: right;\">\n",
              "      <th></th>\n",
              "      <th>sentence</th>\n",
              "      <th>label</th>\n",
              "    </tr>\n",
              "  </thead>\n",
              "  <tbody>\n",
              "    <tr>\n",
              "      <th>0</th>\n",
              "      <td>He dropped one on the floor by accident.</td>\n",
              "      <td>[anger, surprise]</td>\n",
              "    </tr>\n",
              "    <tr>\n",
              "      <th>1</th>\n",
              "      <td>As a joke he pretended that it was a soccer ball.</td>\n",
              "      <td>[joy]</td>\n",
              "    </tr>\n",
              "    <tr>\n",
              "      <th>2</th>\n",
              "      <td>He kicked the orange across the kitchen.</td>\n",
              "      <td>[anticipation, joy]</td>\n",
              "    </tr>\n",
              "  </tbody>\n",
              "</table>\n",
              "</div>"
            ],
            "text/plain": [
              "                                            sentence                label\n",
              "0           He dropped one on the floor by accident.    [anger, surprise]\n",
              "1  As a joke he pretended that it was a soccer ball.                [joy]\n",
              "2           He kicked the orange across the kitchen.  [anticipation, joy]"
            ]
          },
          "metadata": {
            "tags": []
          },
          "execution_count": 15
        }
      ]
    },
    {
      "cell_type": "markdown",
      "metadata": {
        "id": "lf0FA61OWOyM"
      },
      "source": [
        "### 1.3 emotion list를 multi label classification 형태로 변환\n",
        "- label_cols = ['joy', 'anticipation', 'fear', 'surprise', 'anger', 'sadness','trust','disgust']\n",
        "- [joy, anticipation] -> [1,1,0,0,0,0,0,0]"
      ]
    },
    {
      "cell_type": "code",
      "metadata": {
        "id": "3ye8T2c2WOyM"
      },
      "source": [
        "label_cols = ['joy', 'anticipation', 'fear', 'surprise', 'anger', 'sadness','trust','disgust']"
      ],
      "execution_count": 16,
      "outputs": []
    },
    {
      "cell_type": "code",
      "metadata": {
        "id": "wLzHaPiEWOyM"
      },
      "source": [
        "def change_multi_label(df):\n",
        "  sentence = []\n",
        "  joy = []\n",
        "  anticipation = []\n",
        "  fear = []\n",
        "  surprise = []\n",
        "  anger = []\n",
        "  sadness = []\n",
        "  trust = []\n",
        "  disgust = []\n",
        "\n",
        "  for x in range(0,len(df)):\n",
        "    sentence.append(df['sentence'][x])\n",
        "    if 'joy' in df['label'][x]:\n",
        "      joy.append(1)\n",
        "    elif len(joy) != len(sentence):\n",
        "      joy.append(0)\n",
        "\n",
        "    if 'anticipation' in df['label'][x]:\n",
        "      anticipation.append(1)\n",
        "    elif len(anticipation) != len(sentence):\n",
        "      anticipation.append(0)\n",
        "    \n",
        "    if 'fear' in df['label'][x]:\n",
        "      fear.append(1)\n",
        "    elif len(fear) != len(sentence):\n",
        "      fear.append(0)\n",
        "\n",
        "    if 'surprise' in df['label'][x]:\n",
        "      surprise.append(1)\n",
        "    elif len(surprise) != len(sentence):\n",
        "      surprise.append(0)\n",
        "    \n",
        "    if 'anger' in df['label'][x]:\n",
        "      anger.append(1)\n",
        "    elif len(anger) != len(sentence):\n",
        "      anger.append(0)\n",
        "\n",
        "    if 'sadness' in df['label'][x]:\n",
        "      sadness.append(1)\n",
        "    elif len(sadness) != len(sentence):\n",
        "      sadness.append(0)\n",
        "\n",
        "    if 'trust' in df['label'][x]:\n",
        "      trust.append(1)\n",
        "    elif len(trust) != len(sentence):\n",
        "      trust.append(0)\n",
        "\n",
        "    if 'disgust' in df['label'][x]:\n",
        "      disgust.append(1)\n",
        "    elif len(disgust) != len(sentence):\n",
        "      disgust.append(0)\n",
        "\n",
        "  result = pd.DataFrame(columns=['sentence', 'joy','anticipation','fear','surprise','anger','sadness','trust','disgust'])\n",
        "  result['sentence'] = sentence\n",
        "  result['joy'] = joy\n",
        "  result['anticipation'] = anticipation\n",
        "  result['fear'] = fear\n",
        "  result['surprise'] = surprise\n",
        "  result['anger'] = anger\n",
        "  result['sadness'] = sadness\n",
        "  result['trust'] = trust\n",
        "  result['disgust'] = disgust\n",
        "  result = result.drop_duplicates('sentence', keep='first')\n",
        "\n",
        "  return result"
      ],
      "execution_count": 17,
      "outputs": []
    },
    {
      "cell_type": "code",
      "metadata": {
        "id": "R5fxWUFhWOyM"
      },
      "source": [
        "df_train = change_multi_label(train_emotion)\n",
        "df_test = change_multi_label(test_emotion)"
      ],
      "execution_count": 18,
      "outputs": []
    },
    {
      "cell_type": "code",
      "metadata": {
        "colab": {
          "base_uri": "https://localhost:8080/"
        },
        "id": "Ev9VON6NWOyM",
        "outputId": "6309231e-af4d-4662-84c3-d74151541e06"
      },
      "source": [
        "len(df_train)"
      ],
      "execution_count": 19,
      "outputs": [
        {
          "output_type": "execute_result",
          "data": {
            "text/plain": [
              "9186"
            ]
          },
          "metadata": {
            "tags": []
          },
          "execution_count": 19
        }
      ]
    },
    {
      "cell_type": "code",
      "metadata": {
        "colab": {
          "base_uri": "https://localhost:8080/"
        },
        "id": "0OnnC1TkWOyM",
        "outputId": "8caf2587-c37d-40b1-e4c3-f2d1c38742b4"
      },
      "source": [
        "len(df_test)"
      ],
      "execution_count": 20,
      "outputs": [
        {
          "output_type": "execute_result",
          "data": {
            "text/plain": [
              "10210"
            ]
          },
          "metadata": {
            "tags": []
          },
          "execution_count": 20
        }
      ]
    },
    {
      "cell_type": "code",
      "metadata": {
        "id": "hxG4ohScYW3E"
      },
      "source": [
        "df_all = pd.concat([df_train,df_test])"
      ],
      "execution_count": 21,
      "outputs": []
    },
    {
      "cell_type": "code",
      "metadata": {
        "id": "8zjzRIIJau1k"
      },
      "source": [
        "df_all = df_all.drop_duplicates('sentence', keep='first')\n",
        "df_all = df_all.reset_index(drop=True)"
      ],
      "execution_count": 22,
      "outputs": []
    },
    {
      "cell_type": "code",
      "metadata": {
        "colab": {
          "base_uri": "https://localhost:8080/"
        },
        "id": "y_OodktVZG0W",
        "outputId": "b8a413b4-48ac-4903-8cf5-ba24140f2ff0"
      },
      "source": [
        "len(df_all)"
      ],
      "execution_count": 23,
      "outputs": [
        {
          "output_type": "execute_result",
          "data": {
            "text/plain": [
              "19393"
            ]
          },
          "metadata": {
            "tags": []
          },
          "execution_count": 23
        }
      ]
    },
    {
      "cell_type": "code",
      "metadata": {
        "colab": {
          "base_uri": "https://localhost:8080/",
          "height": 204
        },
        "id": "yKR9qhX7ax0U",
        "outputId": "8fdead15-0a80-4680-8eb7-68035e1ab059"
      },
      "source": [
        "df_all.tail()"
      ],
      "execution_count": 24,
      "outputs": [
        {
          "output_type": "execute_result",
          "data": {
            "text/html": [
              "<div>\n",
              "<style scoped>\n",
              "    .dataframe tbody tr th:only-of-type {\n",
              "        vertical-align: middle;\n",
              "    }\n",
              "\n",
              "    .dataframe tbody tr th {\n",
              "        vertical-align: top;\n",
              "    }\n",
              "\n",
              "    .dataframe thead th {\n",
              "        text-align: right;\n",
              "    }\n",
              "</style>\n",
              "<table border=\"1\" class=\"dataframe\">\n",
              "  <thead>\n",
              "    <tr style=\"text-align: right;\">\n",
              "      <th></th>\n",
              "      <th>sentence</th>\n",
              "      <th>joy</th>\n",
              "      <th>anticipation</th>\n",
              "      <th>fear</th>\n",
              "      <th>surprise</th>\n",
              "      <th>anger</th>\n",
              "      <th>sadness</th>\n",
              "      <th>trust</th>\n",
              "      <th>disgust</th>\n",
              "    </tr>\n",
              "  </thead>\n",
              "  <tbody>\n",
              "    <tr>\n",
              "      <th>19388</th>\n",
              "      <td>The light bulb was broken.</td>\n",
              "      <td>0</td>\n",
              "      <td>1</td>\n",
              "      <td>0</td>\n",
              "      <td>1</td>\n",
              "      <td>1</td>\n",
              "      <td>0</td>\n",
              "      <td>0</td>\n",
              "      <td>0</td>\n",
              "    </tr>\n",
              "    <tr>\n",
              "      <th>19389</th>\n",
              "      <td>Carol had to move around in the dark.</td>\n",
              "      <td>0</td>\n",
              "      <td>1</td>\n",
              "      <td>1</td>\n",
              "      <td>1</td>\n",
              "      <td>0</td>\n",
              "      <td>0</td>\n",
              "      <td>0</td>\n",
              "      <td>0</td>\n",
              "    </tr>\n",
              "    <tr>\n",
              "      <th>19390</th>\n",
              "      <td>She was at a party that had amazing food set out.</td>\n",
              "      <td>1</td>\n",
              "      <td>0</td>\n",
              "      <td>0</td>\n",
              "      <td>0</td>\n",
              "      <td>0</td>\n",
              "      <td>0</td>\n",
              "      <td>1</td>\n",
              "      <td>0</td>\n",
              "    </tr>\n",
              "    <tr>\n",
              "      <th>19391</th>\n",
              "      <td>She had been dieting for weeks and was starving.</td>\n",
              "      <td>0</td>\n",
              "      <td>0</td>\n",
              "      <td>0</td>\n",
              "      <td>0</td>\n",
              "      <td>1</td>\n",
              "      <td>0</td>\n",
              "      <td>0</td>\n",
              "      <td>0</td>\n",
              "    </tr>\n",
              "    <tr>\n",
              "      <th>19392</th>\n",
              "      <td>Rosemary swore to eat healthier tomorrow.</td>\n",
              "      <td>1</td>\n",
              "      <td>1</td>\n",
              "      <td>0</td>\n",
              "      <td>0</td>\n",
              "      <td>0</td>\n",
              "      <td>0</td>\n",
              "      <td>1</td>\n",
              "      <td>0</td>\n",
              "    </tr>\n",
              "  </tbody>\n",
              "</table>\n",
              "</div>"
            ],
            "text/plain": [
              "                                                sentence  joy  ...  trust  disgust\n",
              "19388                         The light bulb was broken.    0  ...      0        0\n",
              "19389              Carol had to move around in the dark.    0  ...      0        0\n",
              "19390  She was at a party that had amazing food set out.    1  ...      1        0\n",
              "19391   She had been dieting for weeks and was starving.    0  ...      0        0\n",
              "19392          Rosemary swore to eat healthier tomorrow.    1  ...      1        0\n",
              "\n",
              "[5 rows x 9 columns]"
            ]
          },
          "metadata": {
            "tags": []
          },
          "execution_count": 24
        }
      ]
    },
    {
      "cell_type": "code",
      "metadata": {
        "id": "ofLaAsJ-bHdV"
      },
      "source": [
        "df_train = pd.DataFrame(columns=['sentence', 'joy','anticipation','fear','surprise','anger','sadness','trust','disgust'])\n",
        "df_test = pd.DataFrame(columns=['sentence', 'joy','anticipation','fear','surprise','anger','sadness','trust','disgust'])"
      ],
      "execution_count": 25,
      "outputs": []
    },
    {
      "cell_type": "code",
      "metadata": {
        "id": "ooDQQWXycXaS"
      },
      "source": [
        "df_train = df_all.sample(frac=0.6, random_state=123)  # 항상 같은 값 유지\n",
        "df_test = df_all.drop(df_train.index)"
      ],
      "execution_count": 26,
      "outputs": []
    },
    {
      "cell_type": "code",
      "metadata": {
        "id": "EZhT39wHkx-O"
      },
      "source": [
        "df_train = df_train.reset_index(drop=True)\r\n",
        "df_test = df_test.reset_index(drop=True)"
      ],
      "execution_count": 27,
      "outputs": []
    },
    {
      "cell_type": "code",
      "metadata": {
        "colab": {
          "base_uri": "https://localhost:8080/"
        },
        "id": "nS9aKVDEcDPw",
        "outputId": "791da921-e50d-43c6-faef-45c94fcec222"
      },
      "source": [
        "print(len(df_train), len(df_test))"
      ],
      "execution_count": 28,
      "outputs": [
        {
          "output_type": "stream",
          "text": [
            "11636 7757\n"
          ],
          "name": "stdout"
        }
      ]
    },
    {
      "cell_type": "code",
      "metadata": {
        "colab": {
          "base_uri": "https://localhost:8080/"
        },
        "id": "sXJEGN7fjq7h",
        "outputId": "a8cc8d7a-73c5-4591-fd25-d08547ecea9d"
      },
      "source": [
        "a = set(df_train['sentence']).intersection(set(df_test['sentence']))  # train과 test 중복 문장이 0개 임을 확인 -> 학습데이터 시험데이터 비교 코드\r\n",
        "len(a)"
      ],
      "execution_count": 29,
      "outputs": [
        {
          "output_type": "execute_result",
          "data": {
            "text/plain": [
              "0"
            ]
          },
          "metadata": {
            "tags": []
          },
          "execution_count": 29
        }
      ]
    },
    {
      "cell_type": "code",
      "metadata": {
        "colab": {
          "base_uri": "https://localhost:8080/",
          "height": 204
        },
        "id": "fSnvkcTBpGoq",
        "outputId": "0ff36f54-c527-408d-9e37-e92fa87fba1e"
      },
      "source": [
        "df_train.head()"
      ],
      "execution_count": 30,
      "outputs": [
        {
          "output_type": "execute_result",
          "data": {
            "text/html": [
              "<div>\n",
              "<style scoped>\n",
              "    .dataframe tbody tr th:only-of-type {\n",
              "        vertical-align: middle;\n",
              "    }\n",
              "\n",
              "    .dataframe tbody tr th {\n",
              "        vertical-align: top;\n",
              "    }\n",
              "\n",
              "    .dataframe thead th {\n",
              "        text-align: right;\n",
              "    }\n",
              "</style>\n",
              "<table border=\"1\" class=\"dataframe\">\n",
              "  <thead>\n",
              "    <tr style=\"text-align: right;\">\n",
              "      <th></th>\n",
              "      <th>sentence</th>\n",
              "      <th>joy</th>\n",
              "      <th>anticipation</th>\n",
              "      <th>fear</th>\n",
              "      <th>surprise</th>\n",
              "      <th>anger</th>\n",
              "      <th>sadness</th>\n",
              "      <th>trust</th>\n",
              "      <th>disgust</th>\n",
              "    </tr>\n",
              "  </thead>\n",
              "  <tbody>\n",
              "    <tr>\n",
              "      <th>0</th>\n",
              "      <td>Her mother called her in.</td>\n",
              "      <td>1</td>\n",
              "      <td>0</td>\n",
              "      <td>0</td>\n",
              "      <td>0</td>\n",
              "      <td>0</td>\n",
              "      <td>0</td>\n",
              "      <td>0</td>\n",
              "      <td>0</td>\n",
              "    </tr>\n",
              "    <tr>\n",
              "      <th>1</th>\n",
              "      <td>He ended up delivering pizzas and had a blast.</td>\n",
              "      <td>1</td>\n",
              "      <td>0</td>\n",
              "      <td>0</td>\n",
              "      <td>0</td>\n",
              "      <td>0</td>\n",
              "      <td>0</td>\n",
              "      <td>0</td>\n",
              "      <td>0</td>\n",
              "    </tr>\n",
              "    <tr>\n",
              "      <th>2</th>\n",
              "      <td>He obliged and now walks three to four dogs, t...</td>\n",
              "      <td>1</td>\n",
              "      <td>1</td>\n",
              "      <td>0</td>\n",
              "      <td>0</td>\n",
              "      <td>0</td>\n",
              "      <td>0</td>\n",
              "      <td>1</td>\n",
              "      <td>0</td>\n",
              "    </tr>\n",
              "    <tr>\n",
              "      <th>3</th>\n",
              "      <td>She was sad not to see a single familiar face.</td>\n",
              "      <td>0</td>\n",
              "      <td>1</td>\n",
              "      <td>1</td>\n",
              "      <td>1</td>\n",
              "      <td>0</td>\n",
              "      <td>1</td>\n",
              "      <td>0</td>\n",
              "      <td>0</td>\n",
              "    </tr>\n",
              "    <tr>\n",
              "      <th>4</th>\n",
              "      <td>Rick rode a bus to the Opening Ceremonies with...</td>\n",
              "      <td>1</td>\n",
              "      <td>1</td>\n",
              "      <td>0</td>\n",
              "      <td>1</td>\n",
              "      <td>0</td>\n",
              "      <td>0</td>\n",
              "      <td>1</td>\n",
              "      <td>0</td>\n",
              "    </tr>\n",
              "  </tbody>\n",
              "</table>\n",
              "</div>"
            ],
            "text/plain": [
              "                                            sentence  joy  ...  trust  disgust\n",
              "0                          Her mother called her in.    1  ...      0        0\n",
              "1     He ended up delivering pizzas and had a blast.    1  ...      0        0\n",
              "2  He obliged and now walks three to four dogs, t...    1  ...      1        0\n",
              "3     She was sad not to see a single familiar face.    0  ...      0        0\n",
              "4  Rick rode a bus to the Opening Ceremonies with...    1  ...      1        0\n",
              "\n",
              "[5 rows x 9 columns]"
            ]
          },
          "metadata": {
            "tags": []
          },
          "execution_count": 30
        }
      ]
    },
    {
      "cell_type": "code",
      "metadata": {
        "colab": {
          "base_uri": "https://localhost:8080/",
          "height": 204
        },
        "id": "3FPGcmybpJk1",
        "outputId": "4491a9f9-375e-40fa-fe31-8742f792002d"
      },
      "source": [
        "df_test.head()"
      ],
      "execution_count": 31,
      "outputs": [
        {
          "output_type": "execute_result",
          "data": {
            "text/html": [
              "<div>\n",
              "<style scoped>\n",
              "    .dataframe tbody tr th:only-of-type {\n",
              "        vertical-align: middle;\n",
              "    }\n",
              "\n",
              "    .dataframe tbody tr th {\n",
              "        vertical-align: top;\n",
              "    }\n",
              "\n",
              "    .dataframe thead th {\n",
              "        text-align: right;\n",
              "    }\n",
              "</style>\n",
              "<table border=\"1\" class=\"dataframe\">\n",
              "  <thead>\n",
              "    <tr style=\"text-align: right;\">\n",
              "      <th></th>\n",
              "      <th>sentence</th>\n",
              "      <th>joy</th>\n",
              "      <th>anticipation</th>\n",
              "      <th>fear</th>\n",
              "      <th>surprise</th>\n",
              "      <th>anger</th>\n",
              "      <th>sadness</th>\n",
              "      <th>trust</th>\n",
              "      <th>disgust</th>\n",
              "    </tr>\n",
              "  </thead>\n",
              "  <tbody>\n",
              "    <tr>\n",
              "      <th>0</th>\n",
              "      <td>I began making fish curry for my boyfriend and I.</td>\n",
              "      <td>1</td>\n",
              "      <td>1</td>\n",
              "      <td>0</td>\n",
              "      <td>0</td>\n",
              "      <td>0</td>\n",
              "      <td>0</td>\n",
              "      <td>0</td>\n",
              "      <td>0</td>\n",
              "    </tr>\n",
              "    <tr>\n",
              "      <th>1</th>\n",
              "      <td>I decided not to read a recipe since I've made...</td>\n",
              "      <td>1</td>\n",
              "      <td>1</td>\n",
              "      <td>0</td>\n",
              "      <td>0</td>\n",
              "      <td>0</td>\n",
              "      <td>0</td>\n",
              "      <td>1</td>\n",
              "      <td>0</td>\n",
              "    </tr>\n",
              "    <tr>\n",
              "      <th>2</th>\n",
              "      <td>Jervis has been single for a long time.</td>\n",
              "      <td>0</td>\n",
              "      <td>0</td>\n",
              "      <td>0</td>\n",
              "      <td>0</td>\n",
              "      <td>0</td>\n",
              "      <td>1</td>\n",
              "      <td>0</td>\n",
              "      <td>1</td>\n",
              "    </tr>\n",
              "    <tr>\n",
              "      <th>3</th>\n",
              "      <td>The radio played song after song all night lon...</td>\n",
              "      <td>1</td>\n",
              "      <td>0</td>\n",
              "      <td>0</td>\n",
              "      <td>0</td>\n",
              "      <td>0</td>\n",
              "      <td>0</td>\n",
              "      <td>0</td>\n",
              "      <td>0</td>\n",
              "    </tr>\n",
              "    <tr>\n",
              "      <th>4</th>\n",
              "      <td>He was the best barista in the whole town.</td>\n",
              "      <td>1</td>\n",
              "      <td>0</td>\n",
              "      <td>0</td>\n",
              "      <td>0</td>\n",
              "      <td>0</td>\n",
              "      <td>0</td>\n",
              "      <td>0</td>\n",
              "      <td>0</td>\n",
              "    </tr>\n",
              "  </tbody>\n",
              "</table>\n",
              "</div>"
            ],
            "text/plain": [
              "                                            sentence  joy  ...  trust  disgust\n",
              "0  I began making fish curry for my boyfriend and I.    1  ...      0        0\n",
              "1  I decided not to read a recipe since I've made...    1  ...      1        0\n",
              "2            Jervis has been single for a long time.    0  ...      0        1\n",
              "3  The radio played song after song all night lon...    1  ...      0        0\n",
              "4         He was the best barista in the whole town.    1  ...      0        0\n",
              "\n",
              "[5 rows x 9 columns]"
            ]
          },
          "metadata": {
            "tags": []
          },
          "execution_count": 31
        }
      ]
    },
    {
      "cell_type": "markdown",
      "metadata": {
        "id": "-O9TcVpVWOyM"
      },
      "source": [
        "### 1.4 predict 결과를 저장할 df_result 생성\n",
        "- 모든 감정은 0.5로 초기화\n",
        "- test 셋과 동일한 sentence"
      ]
    },
    {
      "cell_type": "code",
      "metadata": {
        "id": "TDZn0w12WOyM"
      },
      "source": [
        "df_result = df_test\n",
        "df_result = df_result.drop_duplicates('sentence', keep='first')\n",
        "\n",
        "df_result[label_cols] = 0.5\n",
        "df_result.set_index('sentence',inplace=True)"
      ],
      "execution_count": 32,
      "outputs": []
    },
    {
      "cell_type": "code",
      "metadata": {
        "colab": {
          "base_uri": "https://localhost:8080/",
          "height": 235
        },
        "id": "oLJo1uSUWOyM",
        "outputId": "6693136e-c546-4bb5-95d3-2660e32bebfd"
      },
      "source": [
        "df_result.head()"
      ],
      "execution_count": 33,
      "outputs": [
        {
          "output_type": "execute_result",
          "data": {
            "text/html": [
              "<div>\n",
              "<style scoped>\n",
              "    .dataframe tbody tr th:only-of-type {\n",
              "        vertical-align: middle;\n",
              "    }\n",
              "\n",
              "    .dataframe tbody tr th {\n",
              "        vertical-align: top;\n",
              "    }\n",
              "\n",
              "    .dataframe thead th {\n",
              "        text-align: right;\n",
              "    }\n",
              "</style>\n",
              "<table border=\"1\" class=\"dataframe\">\n",
              "  <thead>\n",
              "    <tr style=\"text-align: right;\">\n",
              "      <th></th>\n",
              "      <th>joy</th>\n",
              "      <th>anticipation</th>\n",
              "      <th>fear</th>\n",
              "      <th>surprise</th>\n",
              "      <th>anger</th>\n",
              "      <th>sadness</th>\n",
              "      <th>trust</th>\n",
              "      <th>disgust</th>\n",
              "    </tr>\n",
              "    <tr>\n",
              "      <th>sentence</th>\n",
              "      <th></th>\n",
              "      <th></th>\n",
              "      <th></th>\n",
              "      <th></th>\n",
              "      <th></th>\n",
              "      <th></th>\n",
              "      <th></th>\n",
              "      <th></th>\n",
              "    </tr>\n",
              "  </thead>\n",
              "  <tbody>\n",
              "    <tr>\n",
              "      <th>I began making fish curry for my boyfriend and I.</th>\n",
              "      <td>0.5</td>\n",
              "      <td>0.5</td>\n",
              "      <td>0.5</td>\n",
              "      <td>0.5</td>\n",
              "      <td>0.5</td>\n",
              "      <td>0.5</td>\n",
              "      <td>0.5</td>\n",
              "      <td>0.5</td>\n",
              "    </tr>\n",
              "    <tr>\n",
              "      <th>I decided not to read a recipe since I've made so many in my life.</th>\n",
              "      <td>0.5</td>\n",
              "      <td>0.5</td>\n",
              "      <td>0.5</td>\n",
              "      <td>0.5</td>\n",
              "      <td>0.5</td>\n",
              "      <td>0.5</td>\n",
              "      <td>0.5</td>\n",
              "      <td>0.5</td>\n",
              "    </tr>\n",
              "    <tr>\n",
              "      <th>Jervis has been single for a long time.</th>\n",
              "      <td>0.5</td>\n",
              "      <td>0.5</td>\n",
              "      <td>0.5</td>\n",
              "      <td>0.5</td>\n",
              "      <td>0.5</td>\n",
              "      <td>0.5</td>\n",
              "      <td>0.5</td>\n",
              "      <td>0.5</td>\n",
              "    </tr>\n",
              "    <tr>\n",
              "      <th>The radio played song after song all night long as Ray slumbered.</th>\n",
              "      <td>0.5</td>\n",
              "      <td>0.5</td>\n",
              "      <td>0.5</td>\n",
              "      <td>0.5</td>\n",
              "      <td>0.5</td>\n",
              "      <td>0.5</td>\n",
              "      <td>0.5</td>\n",
              "      <td>0.5</td>\n",
              "    </tr>\n",
              "    <tr>\n",
              "      <th>He was the best barista in the whole town.</th>\n",
              "      <td>0.5</td>\n",
              "      <td>0.5</td>\n",
              "      <td>0.5</td>\n",
              "      <td>0.5</td>\n",
              "      <td>0.5</td>\n",
              "      <td>0.5</td>\n",
              "      <td>0.5</td>\n",
              "      <td>0.5</td>\n",
              "    </tr>\n",
              "  </tbody>\n",
              "</table>\n",
              "</div>"
            ],
            "text/plain": [
              "                                                    joy  ...  disgust\n",
              "sentence                                                 ...         \n",
              "I began making fish curry for my boyfriend and I.   0.5  ...      0.5\n",
              "I decided not to read a recipe since I've made ...  0.5  ...      0.5\n",
              "Jervis has been single for a long time.             0.5  ...      0.5\n",
              "The radio played song after song all night long...  0.5  ...      0.5\n",
              "He was the best barista in the whole town.          0.5  ...      0.5\n",
              "\n",
              "[5 rows x 8 columns]"
            ]
          },
          "metadata": {
            "tags": []
          },
          "execution_count": 33
        }
      ]
    },
    {
      "cell_type": "code",
      "metadata": {
        "colab": {
          "base_uri": "https://localhost:8080/"
        },
        "id": "FJvcXgn5WOyM",
        "outputId": "b6e01070-53ca-4d9a-e023-68e1db115f68"
      },
      "source": [
        "len(df_result)"
      ],
      "execution_count": 34,
      "outputs": [
        {
          "output_type": "execute_result",
          "data": {
            "text/plain": [
              "7757"
            ]
          },
          "metadata": {
            "tags": []
          },
          "execution_count": 34
        }
      ]
    },
    {
      "cell_type": "markdown",
      "metadata": {
        "id": "2v4I6TrNWOyM"
      },
      "source": [
        "## 2. Preprocessing (Tokenization, Truncation & Padding)"
      ]
    },
    {
      "cell_type": "code",
      "metadata": {
        "colab": {
          "base_uri": "https://localhost:8080/"
        },
        "id": "tj5WKsGuWOyM",
        "outputId": "60ba3809-d1a9-4b3d-9933-68c420b07215"
      },
      "source": [
        "!pip install transformers==2.3.0"
      ],
      "execution_count": 35,
      "outputs": [
        {
          "output_type": "stream",
          "text": [
            "Collecting transformers==2.3.0\n",
            "\u001b[?25l  Downloading https://files.pythonhosted.org/packages/50/10/aeefced99c8a59d828a92cc11d213e2743212d3641c87c82d61b035a7d5c/transformers-2.3.0-py3-none-any.whl (447kB)\n",
            "\r\u001b[K     |▊                               | 10kB 21.4MB/s eta 0:00:01\r\u001b[K     |█▌                              | 20kB 26.5MB/s eta 0:00:01\r\u001b[K     |██▏                             | 30kB 18.1MB/s eta 0:00:01\r\u001b[K     |███                             | 40kB 16.4MB/s eta 0:00:01\r\u001b[K     |███▋                            | 51kB 13.1MB/s eta 0:00:01\r\u001b[K     |████▍                           | 61kB 12.5MB/s eta 0:00:01\r\u001b[K     |█████▏                          | 71kB 12.2MB/s eta 0:00:01\r\u001b[K     |█████▉                          | 81kB 12.2MB/s eta 0:00:01\r\u001b[K     |██████▋                         | 92kB 12.0MB/s eta 0:00:01\r\u001b[K     |███████▎                        | 102kB 11.9MB/s eta 0:00:01\r\u001b[K     |████████                        | 112kB 11.9MB/s eta 0:00:01\r\u001b[K     |████████▉                       | 122kB 11.9MB/s eta 0:00:01\r\u001b[K     |█████████▌                      | 133kB 11.9MB/s eta 0:00:01\r\u001b[K     |██████████▎                     | 143kB 11.9MB/s eta 0:00:01\r\u001b[K     |███████████                     | 153kB 11.9MB/s eta 0:00:01\r\u001b[K     |███████████▊                    | 163kB 11.9MB/s eta 0:00:01\r\u001b[K     |████████████▌                   | 174kB 11.9MB/s eta 0:00:01\r\u001b[K     |█████████████▏                  | 184kB 11.9MB/s eta 0:00:01\r\u001b[K     |██████████████                  | 194kB 11.9MB/s eta 0:00:01\r\u001b[K     |██████████████▋                 | 204kB 11.9MB/s eta 0:00:01\r\u001b[K     |███████████████▍                | 215kB 11.9MB/s eta 0:00:01\r\u001b[K     |████████████████▏               | 225kB 11.9MB/s eta 0:00:01\r\u001b[K     |████████████████▉               | 235kB 11.9MB/s eta 0:00:01\r\u001b[K     |█████████████████▋              | 245kB 11.9MB/s eta 0:00:01\r\u001b[K     |██████████████████▎             | 256kB 11.9MB/s eta 0:00:01\r\u001b[K     |███████████████████             | 266kB 11.9MB/s eta 0:00:01\r\u001b[K     |███████████████████▊            | 276kB 11.9MB/s eta 0:00:01\r\u001b[K     |████████████████████▌           | 286kB 11.9MB/s eta 0:00:01\r\u001b[K     |█████████████████████▎          | 296kB 11.9MB/s eta 0:00:01\r\u001b[K     |██████████████████████          | 307kB 11.9MB/s eta 0:00:01\r\u001b[K     |██████████████████████▊         | 317kB 11.9MB/s eta 0:00:01\r\u001b[K     |███████████████████████▍        | 327kB 11.9MB/s eta 0:00:01\r\u001b[K     |████████████████████████▏       | 337kB 11.9MB/s eta 0:00:01\r\u001b[K     |█████████████████████████       | 348kB 11.9MB/s eta 0:00:01\r\u001b[K     |█████████████████████████▋      | 358kB 11.9MB/s eta 0:00:01\r\u001b[K     |██████████████████████████▍     | 368kB 11.9MB/s eta 0:00:01\r\u001b[K     |███████████████████████████     | 378kB 11.9MB/s eta 0:00:01\r\u001b[K     |███████████████████████████▉    | 389kB 11.9MB/s eta 0:00:01\r\u001b[K     |████████████████████████████▋   | 399kB 11.9MB/s eta 0:00:01\r\u001b[K     |█████████████████████████████▎  | 409kB 11.9MB/s eta 0:00:01\r\u001b[K     |██████████████████████████████  | 419kB 11.9MB/s eta 0:00:01\r\u001b[K     |██████████████████████████████▊ | 430kB 11.9MB/s eta 0:00:01\r\u001b[K     |███████████████████████████████▌| 440kB 11.9MB/s eta 0:00:01\r\u001b[K     |████████████████████████████████| 450kB 11.9MB/s \n",
            "\u001b[?25hRequirement already satisfied: tqdm in /usr/local/lib/python3.6/dist-packages (from transformers==2.3.0) (4.41.1)\n",
            "Collecting sentencepiece\n",
            "\u001b[?25l  Downloading https://files.pythonhosted.org/packages/e5/2d/6d4ca4bef9a67070fa1cac508606328329152b1df10bdf31fb6e4e727894/sentencepiece-0.1.94-cp36-cp36m-manylinux2014_x86_64.whl (1.1MB)\n",
            "\u001b[K     |████████████████████████████████| 1.1MB 54.2MB/s \n",
            "\u001b[?25hRequirement already satisfied: requests in /usr/local/lib/python3.6/dist-packages (from transformers==2.3.0) (2.23.0)\n",
            "Requirement already satisfied: regex!=2019.12.17 in /usr/local/lib/python3.6/dist-packages (from transformers==2.3.0) (2019.12.20)\n",
            "Collecting boto3\n",
            "\u001b[?25l  Downloading https://files.pythonhosted.org/packages/76/69/1ae307bbfbc3df15778ad1568f9b2def472fbcc07ec81479d148370abf89/boto3-1.16.33.tar.gz (97kB)\n",
            "\u001b[K     |████████████████████████████████| 102kB 12.8MB/s \n",
            "\u001b[?25hRequirement already satisfied: numpy in /usr/local/lib/python3.6/dist-packages (from transformers==2.3.0) (1.18.5)\n",
            "Collecting sacremoses\n",
            "\u001b[?25l  Downloading https://files.pythonhosted.org/packages/7d/34/09d19aff26edcc8eb2a01bed8e98f13a1537005d31e95233fd48216eed10/sacremoses-0.0.43.tar.gz (883kB)\n",
            "\u001b[K     |████████████████████████████████| 890kB 47.2MB/s \n",
            "\u001b[?25hRequirement already satisfied: chardet<4,>=3.0.2 in /usr/local/lib/python3.6/dist-packages (from requests->transformers==2.3.0) (3.0.4)\n",
            "Requirement already satisfied: certifi>=2017.4.17 in /usr/local/lib/python3.6/dist-packages (from requests->transformers==2.3.0) (2020.11.8)\n",
            "Requirement already satisfied: idna<3,>=2.5 in /usr/local/lib/python3.6/dist-packages (from requests->transformers==2.3.0) (2.10)\n",
            "Requirement already satisfied: urllib3!=1.25.0,!=1.25.1,<1.26,>=1.21.1 in /usr/local/lib/python3.6/dist-packages (from requests->transformers==2.3.0) (1.24.3)\n",
            "Collecting botocore<1.20.0,>=1.19.33\n",
            "\u001b[?25l  Downloading https://files.pythonhosted.org/packages/76/3e/5f64c7b492312069520d219ed56ce6b3d1821dab8251c18d25728578b58e/botocore-1.19.33-py2.py3-none-any.whl (7.0MB)\n",
            "\u001b[K     |████████████████████████████████| 7.0MB 48.1MB/s \n",
            "\u001b[?25hCollecting jmespath<1.0.0,>=0.7.1\n",
            "  Downloading https://files.pythonhosted.org/packages/07/cb/5f001272b6faeb23c1c9e0acc04d48eaaf5c862c17709d20e3469c6e0139/jmespath-0.10.0-py2.py3-none-any.whl\n",
            "Collecting s3transfer<0.4.0,>=0.3.0\n",
            "\u001b[?25l  Downloading https://files.pythonhosted.org/packages/69/79/e6afb3d8b0b4e96cefbdc690f741d7dd24547ff1f94240c997a26fa908d3/s3transfer-0.3.3-py2.py3-none-any.whl (69kB)\n",
            "\u001b[K     |████████████████████████████████| 71kB 9.9MB/s \n",
            "\u001b[?25hRequirement already satisfied: six in /usr/local/lib/python3.6/dist-packages (from sacremoses->transformers==2.3.0) (1.15.0)\n",
            "Requirement already satisfied: click in /usr/local/lib/python3.6/dist-packages (from sacremoses->transformers==2.3.0) (7.1.2)\n",
            "Requirement already satisfied: joblib in /usr/local/lib/python3.6/dist-packages (from sacremoses->transformers==2.3.0) (0.17.0)\n",
            "Requirement already satisfied: python-dateutil<3.0.0,>=2.1 in /usr/local/lib/python3.6/dist-packages (from botocore<1.20.0,>=1.19.33->boto3->transformers==2.3.0) (2.8.1)\n",
            "Building wheels for collected packages: boto3, sacremoses\n",
            "  Building wheel for boto3 (setup.py) ... \u001b[?25l\u001b[?25hdone\n",
            "  Created wheel for boto3: filename=boto3-1.16.33-py2.py3-none-any.whl size=128451 sha256=224116de24bc97d6b4f48fdb9970b6f37ded4eecc7e41bdf5551a196e9c23a39\n",
            "  Stored in directory: /root/.cache/pip/wheels/28/c0/ba/5f9cce3a8686eea945fd594ae8fcdec24b1bd7402d3d065a47\n",
            "  Building wheel for sacremoses (setup.py) ... \u001b[?25l\u001b[?25hdone\n",
            "  Created wheel for sacremoses: filename=sacremoses-0.0.43-cp36-none-any.whl size=893257 sha256=883798e2d93d14b17cb6e45167d84accb62ea0ba584322d20ab8fa614a52ffad\n",
            "  Stored in directory: /root/.cache/pip/wheels/29/3c/fd/7ce5c3f0666dab31a50123635e6fb5e19ceb42ce38d4e58f45\n",
            "Successfully built boto3 sacremoses\n",
            "\u001b[31mERROR: botocore 1.19.33 has requirement urllib3<1.27,>=1.25.4; python_version != \"3.4\", but you'll have urllib3 1.24.3 which is incompatible.\u001b[0m\n",
            "Installing collected packages: sentencepiece, jmespath, botocore, s3transfer, boto3, sacremoses, transformers\n",
            "Successfully installed boto3-1.16.33 botocore-1.19.33 jmespath-0.10.0 s3transfer-0.3.3 sacremoses-0.0.43 sentencepiece-0.1.94 transformers-2.3.0\n"
          ],
          "name": "stdout"
        }
      ]
    },
    {
      "cell_type": "code",
      "metadata": {
        "id": "0kYDrnbLWOyM"
      },
      "source": [
        "from tqdm.notebook import tqdm\n",
        "import numpy as np\n",
        "import pandas as pd\n",
        "import tensorflow as tf"
      ],
      "execution_count": 36,
      "outputs": []
    },
    {
      "cell_type": "code",
      "metadata": {
        "colab": {
          "base_uri": "https://localhost:8080/",
          "height": 66,
          "referenced_widgets": [
            "3754223f901646babc326944d9e11f0f",
            "178cb9b1982648ef95eb455f939179f9",
            "a38b1a3a77c242e5be860d3fc84da5a5",
            "8e1c30b3f11944ebbaeaed5b4d592590",
            "751f0c5599ec4a62adf59259125150f0",
            "004c8a9801fe4d7a9c31cc0015cd067d",
            "d4ce8f3b15a94a8082d65e3234eb9098",
            "f8231b199d1d4ab1b6c89991afe48563"
          ]
        },
        "id": "io9nT0YZWOyM",
        "outputId": "838575a5-3cbd-4f2f-8781-129003614c96"
      },
      "source": [
        "from transformers import BertTokenizer\n",
        "from keras.preprocessing.sequence import pad_sequences\n",
        "\n",
        "bert_model_name = 'bert-base-uncased'\n",
        "\n",
        "tokenizer = BertTokenizer.from_pretrained(bert_model_name, do_lower_case=True)\n",
        "MAX_LEN = 64\n",
        "\n",
        "def tokenize_sentences(sentences, tokenizer, max_seq_len = 64):\n",
        "    tokenized_sentences = []\n",
        "\n",
        "    for sentence in tqdm(sentences):\n",
        "        tokenized_sentence = tokenizer.encode(\n",
        "                            sentence,                  # Sentence to encode.\n",
        "                            add_special_tokens = True, # Add '[CLS]' and '[SEP]'\n",
        "                            max_length = max_seq_len,  # Truncate all sentences.\n",
        "                    )\n",
        "        \n",
        "        tokenized_sentences.append(tokenized_sentence)\n",
        "\n",
        "    return tokenized_sentences\n",
        "\n",
        "def create_attention_masks(tokenized_and_padded_sentences):\n",
        "    attention_masks = []\n",
        "\n",
        "    for sentence in tokenized_and_padded_sentences:\n",
        "        att_mask = [int(token_id > 0) for token_id in sentence]\n",
        "        attention_masks.append(att_mask)\n",
        "\n",
        "    return np.asarray(attention_masks)\n",
        "\n",
        "input_ids = tokenize_sentences(df_train['sentence'], tokenizer, MAX_LEN)\n",
        "input_ids = pad_sequences(input_ids, maxlen=MAX_LEN, dtype=\"long\", value=0, truncating=\"post\", padding=\"post\")\n",
        "attention_masks = create_attention_masks(input_ids)"
      ],
      "execution_count": 37,
      "outputs": [
        {
          "output_type": "display_data",
          "data": {
            "application/vnd.jupyter.widget-view+json": {
              "model_id": "3754223f901646babc326944d9e11f0f",
              "version_minor": 0,
              "version_major": 2
            },
            "text/plain": [
              "HBox(children=(FloatProgress(value=0.0, max=11636.0), HTML(value='')))"
            ]
          },
          "metadata": {
            "tags": []
          }
        },
        {
          "output_type": "stream",
          "text": [
            "\n"
          ],
          "name": "stdout"
        }
      ]
    },
    {
      "cell_type": "code",
      "metadata": {
        "colab": {
          "base_uri": "https://localhost:8080/"
        },
        "id": "pjIA9qF3WOyN",
        "outputId": "67b21f65-514a-4aa3-ffd7-c64135164c18"
      },
      "source": [
        "from sklearn.model_selection import train_test_split\n",
        "\n",
        "labels =  df_train[label_cols].values\n",
        "\n",
        "train_inputs, validation_inputs, train_labels, validation_labels = train_test_split(input_ids, labels, random_state=0, test_size=0.3)\n",
        "train_masks, validation_masks, _, _ = train_test_split(attention_masks, labels, random_state=0, test_size=0.3)\n",
        "\n",
        "train_size = len(train_inputs)\n",
        "validation_size = len(validation_inputs)\n",
        "\n",
        "print(train_size, validation_size)"
      ],
      "execution_count": 38,
      "outputs": [
        {
          "output_type": "stream",
          "text": [
            "8145 3491\n"
          ],
          "name": "stdout"
        }
      ]
    },
    {
      "cell_type": "code",
      "metadata": {
        "id": "dcQtZjNfWOyN"
      },
      "source": [
        "BATCH_SIZE = 32\n",
        "NR_EPOCHS = 10\n",
        "\n",
        "def create_dataset(data_tuple, epochs=1, batch_size=32, buffer_size=10000, train=True):\n",
        "    dataset = tf.data.Dataset.from_tensor_slices(data_tuple)\n",
        "    if train:\n",
        "        dataset = dataset.shuffle(buffer_size=buffer_size)\n",
        "    dataset = dataset.repeat(epochs)\n",
        "    dataset = dataset.batch(batch_size)\n",
        "    if train:\n",
        "        dataset = dataset.prefetch(1)\n",
        "    \n",
        "    return dataset\n",
        "\n",
        "train_dataset = create_dataset((train_inputs, train_masks, train_labels), epochs=NR_EPOCHS, batch_size=BATCH_SIZE)\n",
        "validation_dataset = create_dataset((validation_inputs, validation_masks, validation_labels), epochs=NR_EPOCHS, batch_size=BATCH_SIZE)"
      ],
      "execution_count": 39,
      "outputs": []
    },
    {
      "cell_type": "code",
      "metadata": {
        "colab": {
          "base_uri": "https://localhost:8080/",
          "height": 66,
          "referenced_widgets": [
            "27b6eed8cddf439da28aa496ca564965",
            "05916ef0ceee42a89a31f456f633c5e3",
            "2a36d16d582243f3900e185d1c38cd4f",
            "d1117ad0eaf546e391bd9cc0919d67d3",
            "3cea338b69424bf698b31560b428a8bb",
            "a6f84db5f9964ebe9afd42955111409a",
            "5928937ff30743a183199d37dd3c54d5",
            "10055768161f4455bbf93afddf8a7dea"
          ]
        },
        "id": "UhEh3BbsWOyN",
        "outputId": "fbe555fb-c5f0-4886-aec6-2781a7738f33"
      },
      "source": [
        "df_test_labels = df_test[label_cols].values\n",
        "\n",
        "test_input_ids = tokenize_sentences(df_test['sentence'], tokenizer, MAX_LEN)\n",
        "test_input_ids = pad_sequences(test_input_ids, maxlen=MAX_LEN, dtype=\"long\", value=0, truncating=\"post\", padding=\"post\")\n",
        "test_attention_masks = create_attention_masks(test_input_ids)"
      ],
      "execution_count": 40,
      "outputs": [
        {
          "output_type": "display_data",
          "data": {
            "application/vnd.jupyter.widget-view+json": {
              "model_id": "27b6eed8cddf439da28aa496ca564965",
              "version_minor": 0,
              "version_major": 2
            },
            "text/plain": [
              "HBox(children=(FloatProgress(value=0.0, max=7757.0), HTML(value='')))"
            ]
          },
          "metadata": {
            "tags": []
          }
        },
        {
          "output_type": "stream",
          "text": [
            "\n"
          ],
          "name": "stdout"
        }
      ]
    },
    {
      "cell_type": "code",
      "metadata": {
        "colab": {
          "base_uri": "https://localhost:8080/"
        },
        "id": "nDtjqOMwWOyN",
        "outputId": "4a288266-16e0-4cd0-ad82-f9fa1856ca5b"
      },
      "source": [
        "TEST_BATCH_SIZE = 32\n",
        "test_steps = len(df_test) // TEST_BATCH_SIZE\n",
        "\n",
        "test_dataset = create_dataset((test_input_ids, test_attention_masks), batch_size=TEST_BATCH_SIZE, train=False, epochs=1)\n",
        "print(len(test_input_ids))"
      ],
      "execution_count": 41,
      "outputs": [
        {
          "output_type": "stream",
          "text": [
            "7757\n"
          ],
          "name": "stdout"
        }
      ]
    },
    {
      "cell_type": "markdown",
      "metadata": {
        "id": "nEpQdYNLWOyN"
      },
      "source": [
        "## 3. BERT Model"
      ]
    },
    {
      "cell_type": "code",
      "metadata": {
        "id": "8sQgHqQxWOyN"
      },
      "source": [
        "from transformers import TFBertModel\n",
        "from tensorflow.keras.layers import Dense, Flatten\n",
        "\n",
        "class BertClassifier(tf.keras.Model):    \n",
        "    def __init__(self, bert: TFBertModel, num_classes: int):\n",
        "        super().__init__()\n",
        "        self.bert = bert\n",
        "        self.classifier = Dense(num_classes, activation='sigmoid')\n",
        "        \n",
        "    @tf.function\n",
        "    def call(self, input_ids, attention_mask=None, token_type_ids=None, position_ids=None, head_mask=None):\n",
        "        outputs = self.bert(input_ids,\n",
        "                               attention_mask=attention_mask,\n",
        "                               token_type_ids=token_type_ids,\n",
        "                               position_ids=position_ids,\n",
        "                               head_mask=head_mask)\n",
        "        cls_output = outputs[1]\n",
        "        cls_output = self.classifier(cls_output)\n",
        "                \n",
        "        return cls_output\n",
        "\n",
        "model = BertClassifier(TFBertModel.from_pretrained(bert_model_name), len(label_cols))"
      ],
      "execution_count": 42,
      "outputs": []
    },
    {
      "cell_type": "code",
      "metadata": {
        "colab": {
          "base_uri": "https://localhost:8080/"
        },
        "id": "eANEF2lgBrSZ",
        "outputId": "2bfa76a7-816f-41b4-ee05-5d65955d63a8"
      },
      "source": [
        "model(train_inputs[:1],train_masks[:1]).numpy()\n",
        "model.summary()"
      ],
      "execution_count": 43,
      "outputs": [
        {
          "output_type": "stream",
          "text": [
            "Model: \"bert_classifier\"\n",
            "_________________________________________________________________\n",
            "Layer (type)                 Output Shape              Param #   \n",
            "=================================================================\n",
            "tf_bert_model (TFBertModel)  multiple                  109482240 \n",
            "_________________________________________________________________\n",
            "dense (Dense)                multiple                  6152      \n",
            "=================================================================\n",
            "Total params: 109,488,392\n",
            "Trainable params: 109,488,392\n",
            "Non-trainable params: 0\n",
            "_________________________________________________________________\n"
          ],
          "name": "stdout"
        }
      ]
    },
    {
      "cell_type": "markdown",
      "metadata": {
        "id": "MtuJd_htWOyN"
      },
      "source": [
        "## 4. Training Loop"
      ]
    },
    {
      "cell_type": "code",
      "metadata": {
        "id": "9aN0mWc4WOyN"
      },
      "source": [
        "# import time\n",
        "# from transformers import create_optimizer\n",
        "\n",
        "# steps_per_epoch = train_size // BATCH_SIZE\n",
        "# validation_steps = validation_size // BATCH_SIZE\n",
        "\n",
        "# # | Loss Function\n",
        "# loss_object = tf.keras.losses.BinaryCrossentropy(from_logits=False)\n",
        "# train_loss = tf.keras.metrics.Mean(name='train_loss')\n",
        "# validation_loss = tf.keras.metrics.Mean(name='test_loss')\n",
        "\n",
        "# # | Optimizer (with 1-cycle-policy)\n",
        "# warmup_steps = steps_per_epoch // 3\n",
        "# total_steps = steps_per_epoch * NR_EPOCHS - warmup_steps\n",
        "# optimizer = create_optimizer(init_lr=2e-5, num_train_steps=total_steps, num_warmup_steps=warmup_steps)\n",
        "\n",
        "# # | Metrics\n",
        "# train_auc_metrics = [tf.keras.metrics.AUC() for i in range(len(label_cols))]\n",
        "# validation_auc_metrics = [tf.keras.metrics.AUC() for i in range(len(label_cols))]\n",
        "\n",
        "# @tf.function\n",
        "# def train_step(model, token_ids, masks, labels):\n",
        "#     labels = tf.dtypes.cast(labels, tf.float32)\n",
        "\n",
        "#     with tf.GradientTape() as tape:\n",
        "#         predictions = model(token_ids, attention_mask=masks)\n",
        "#         loss = loss_object(labels, predictions)\n",
        "\n",
        "#     gradients = tape.gradient(loss, model.trainable_variables)\n",
        "#     optimizer.apply_gradients(zip(gradients, model.trainable_variables), 1.0)\n",
        "\n",
        "#     train_loss(loss)\n",
        "\n",
        "#     for i, auc in enumerate(train_auc_metrics):\n",
        "#         auc.update_state(labels[:,i], predictions[:,i])\n",
        "        \n",
        "# @tf.function\n",
        "# def validation_step(model, token_ids, masks, labels):\n",
        "#     labels = tf.dtypes.cast(labels, tf.float32)\n",
        "\n",
        "#     predictions = model(token_ids, attention_mask=masks, training=False)\n",
        "#     v_loss = loss_object(labels, predictions)\n",
        "\n",
        "#     validation_loss(v_loss)\n",
        "#     for i, auc in enumerate(validation_auc_metrics):\n",
        "#         auc.update_state(labels[:,i], predictions[:,i])\n",
        "                                              \n",
        "# def train(model, train_dataset, val_dataset, train_steps_per_epoch, val_steps_per_epoch, epochs):\n",
        "#     for epoch in range(epochs):\n",
        "#         print('=' * 50, f\"EPOCH {epoch+1}\", '=' * 50)\n",
        "\n",
        "#         start = time.time()\n",
        "\n",
        "#         for i, (token_ids, masks, labels) in enumerate(tqdm(train_dataset, total=train_steps_per_epoch)):\n",
        "#             train_step(model, token_ids, masks, labels)\n",
        "#             if i % 1000 == 0:\n",
        "#                 print(f'\\nTrain Step: {i}, Loss: {train_loss.result()}')\n",
        "#                 for i, label_name in enumerate(label_cols):\n",
        "#                     print(f\"{label_name} roc_auc {train_auc_metrics[i].result()}\")\n",
        "#                     train_auc_metrics[i].reset_states()\n",
        "        \n",
        "#         for i, (token_ids, masks, labels) in enumerate(tqdm(val_dataset, total=val_steps_per_epoch)):\n",
        "#             validation_step(model, token_ids, masks, labels)\n",
        "\n",
        "#         print(f'\\nEpoch {epoch+1}, Validation Loss: {validation_loss.result()}, Time: {time.time()-start}\\n')\n",
        "\n",
        "#         for i, label_name in enumerate(label_cols):\n",
        "#             print(f\"{label_name} roc_auc {validation_auc_metrics[i].result()}\")\n",
        "#             validation_auc_metrics[i].reset_states()\n",
        "\n",
        "#         print('\\n')\n",
        "\n",
        "        \n",
        "# train(model, train_dataset, validation_dataset, train_steps_per_epoch=steps_per_epoch, val_steps_per_epoch=validation_steps, epochs=NR_EPOCHS)"
      ],
      "execution_count": 44,
      "outputs": []
    },
    {
      "cell_type": "code",
      "metadata": {
        "id": "equmoLgXEYz8"
      },
      "source": [
        "#model.save_weights(\"multi_emotion_classification.h5\")"
      ],
      "execution_count": 45,
      "outputs": []
    },
    {
      "cell_type": "markdown",
      "metadata": {
        "id": "d7qXGHw6WOyN"
      },
      "source": [
        "## 5. 사전 학습한 모델 로드 및 결과 확인"
      ]
    },
    {
      "cell_type": "code",
      "metadata": {
        "colab": {
          "base_uri": "https://localhost:8080/"
        },
        "id": "JykYOtePB3Vg",
        "outputId": "9c39789f-9f93-441d-bc76-ad3d08da72d7"
      },
      "source": [
        "!gdown --id 1P9_JJ0mkwGC_eiZzh3nfIfwKlQFMpA53  # 사전 학습 모델 다운로드 코드"
      ],
      "execution_count": 46,
      "outputs": [
        {
          "output_type": "stream",
          "text": [
            "Downloading...\n",
            "From: https://drive.google.com/uc?id=1P9_JJ0mkwGC_eiZzh3nfIfwKlQFMpA53\n",
            "To: /content/multi_emotion_classification.h5\n",
            "438MB [00:02, 147MB/s]\n"
          ],
          "name": "stdout"
        }
      ]
    },
    {
      "cell_type": "code",
      "metadata": {
        "id": "l8S7PTykWOyN"
      },
      "source": [
        "model.load_weights('/content/multi_emotion_classification.h5')  # 사전 학습 모델 적용 코드"
      ],
      "execution_count": 47,
      "outputs": []
    },
    {
      "cell_type": "code",
      "metadata": {
        "id": "mNWrdv9CWOyN"
      },
      "source": [
        "from sklearn.metrics import multilabel_confusion_matrix, classification_report,hamming_loss, f1_score"
      ],
      "execution_count": 48,
      "outputs": []
    },
    {
      "cell_type": "code",
      "metadata": {
        "colab": {
          "base_uri": "https://localhost:8080/",
          "height": 66,
          "referenced_widgets": [
            "67cb48158f904f34a4380635938dda49",
            "3f8a20ebc33a414aba8852dcfe7e5c12",
            "b4232b3f71944807b0c7bbbd9e427516",
            "f630fcb28e374255999f9162bee26f39",
            "9bd1f0ed07fc4b069238b5f9cd8c667a",
            "ec1cdfc063fb4abcb7aeb9b9c7719920",
            "488bcda1093b48b38c5d468d24b5e612",
            "d1ecbbdbb8d747b5a035ecc9679f39b4"
          ]
        },
        "id": "qq65K0lkWOyN",
        "outputId": "e1b923b6-775f-4fea-b521-6bfd132d0a30"
      },
      "source": [
        "test_auc_metrics = [tf.keras.metrics.AUC() for i in range(len(label_cols))]\n",
        "\n",
        "for i, (token_ids, masks) in enumerate(tqdm(test_dataset, total=test_steps)):\n",
        "    labels = df_test_labels[i*TEST_BATCH_SIZE:(i+1)*TEST_BATCH_SIZE]\n",
        "    labels = tf.dtypes.cast(labels, tf.float32)\n",
        "    \n",
        "    sample_ids = df_test.iloc[i*TEST_BATCH_SIZE:(i+1)*TEST_BATCH_SIZE]['sentence']\n",
        "    predictions = model(token_ids, attention_mask=masks).numpy()\n",
        "\n",
        "    df_result.loc[sample_ids, label_cols] = predictions\n",
        "\n",
        "    for i, auc in enumerate(test_auc_metrics):\n",
        "      auc.update_state(labels[:,i], predictions[:,i])"
      ],
      "execution_count": 49,
      "outputs": [
        {
          "output_type": "display_data",
          "data": {
            "application/vnd.jupyter.widget-view+json": {
              "model_id": "67cb48158f904f34a4380635938dda49",
              "version_minor": 0,
              "version_major": 2
            },
            "text/plain": [
              "HBox(children=(FloatProgress(value=0.0, max=242.0), HTML(value='')))"
            ]
          },
          "metadata": {
            "tags": []
          }
        },
        {
          "output_type": "stream",
          "text": [
            "\n"
          ],
          "name": "stdout"
        }
      ]
    },
    {
      "cell_type": "code",
      "metadata": {
        "colab": {
          "base_uri": "https://localhost:8080/"
        },
        "id": "Vr_7-wz6WOyN",
        "outputId": "774dc3d0-89c3-48ad-9680-f9427da9d7e1"
      },
      "source": [
        "for i, label_name in enumerate(label_cols):\n",
        "    print(f\"{label_name} roc_auc {test_auc_metrics[i].result()}\")\n",
        "    test_auc_metrics[i].reset_states()"
      ],
      "execution_count": 50,
      "outputs": [
        {
          "output_type": "stream",
          "text": [
            "joy roc_auc 0.900753378868103\n",
            "anticipation roc_auc 0.6956520676612854\n",
            "fear roc_auc 0.8043549060821533\n",
            "surprise roc_auc 0.7219706773757935\n",
            "anger roc_auc 0.840342104434967\n",
            "sadness roc_auc 0.8476757407188416\n",
            "trust roc_auc 0.7645024657249451\n",
            "disgust roc_auc 0.825882613658905\n"
          ],
          "name": "stdout"
        }
      ]
    },
    {
      "cell_type": "code",
      "metadata": {
        "colab": {
          "base_uri": "https://localhost:8080/",
          "height": 235
        },
        "id": "A9ST5o9qqjAF",
        "outputId": "66628c57-6972-4c00-a7c8-60503f5467e3"
      },
      "source": [
        "df_result.head()"
      ],
      "execution_count": 51,
      "outputs": [
        {
          "output_type": "execute_result",
          "data": {
            "text/html": [
              "<div>\n",
              "<style scoped>\n",
              "    .dataframe tbody tr th:only-of-type {\n",
              "        vertical-align: middle;\n",
              "    }\n",
              "\n",
              "    .dataframe tbody tr th {\n",
              "        vertical-align: top;\n",
              "    }\n",
              "\n",
              "    .dataframe thead th {\n",
              "        text-align: right;\n",
              "    }\n",
              "</style>\n",
              "<table border=\"1\" class=\"dataframe\">\n",
              "  <thead>\n",
              "    <tr style=\"text-align: right;\">\n",
              "      <th></th>\n",
              "      <th>joy</th>\n",
              "      <th>anticipation</th>\n",
              "      <th>fear</th>\n",
              "      <th>surprise</th>\n",
              "      <th>anger</th>\n",
              "      <th>sadness</th>\n",
              "      <th>trust</th>\n",
              "      <th>disgust</th>\n",
              "    </tr>\n",
              "    <tr>\n",
              "      <th>sentence</th>\n",
              "      <th></th>\n",
              "      <th></th>\n",
              "      <th></th>\n",
              "      <th></th>\n",
              "      <th></th>\n",
              "      <th></th>\n",
              "      <th></th>\n",
              "      <th></th>\n",
              "    </tr>\n",
              "  </thead>\n",
              "  <tbody>\n",
              "    <tr>\n",
              "      <th>I began making fish curry for my boyfriend and I.</th>\n",
              "      <td>0.981032</td>\n",
              "      <td>0.717183</td>\n",
              "      <td>0.017992</td>\n",
              "      <td>0.216353</td>\n",
              "      <td>0.012455</td>\n",
              "      <td>0.027910</td>\n",
              "      <td>0.561285</td>\n",
              "      <td>0.020403</td>\n",
              "    </tr>\n",
              "    <tr>\n",
              "      <th>I decided not to read a recipe since I've made so many in my life.</th>\n",
              "      <td>0.421317</td>\n",
              "      <td>0.483951</td>\n",
              "      <td>0.117625</td>\n",
              "      <td>0.424697</td>\n",
              "      <td>0.084600</td>\n",
              "      <td>0.098903</td>\n",
              "      <td>0.123876</td>\n",
              "      <td>0.063185</td>\n",
              "    </tr>\n",
              "    <tr>\n",
              "      <th>Jervis has been single for a long time.</th>\n",
              "      <td>0.878109</td>\n",
              "      <td>0.517616</td>\n",
              "      <td>0.064829</td>\n",
              "      <td>0.074441</td>\n",
              "      <td>0.020581</td>\n",
              "      <td>0.051312</td>\n",
              "      <td>0.483384</td>\n",
              "      <td>0.015689</td>\n",
              "    </tr>\n",
              "    <tr>\n",
              "      <th>The radio played song after song all night long as Ray slumbered.</th>\n",
              "      <td>0.569796</td>\n",
              "      <td>0.393155</td>\n",
              "      <td>0.094380</td>\n",
              "      <td>0.155930</td>\n",
              "      <td>0.080234</td>\n",
              "      <td>0.192368</td>\n",
              "      <td>0.212913</td>\n",
              "      <td>0.062805</td>\n",
              "    </tr>\n",
              "    <tr>\n",
              "      <th>He was the best barista in the whole town.</th>\n",
              "      <td>0.966941</td>\n",
              "      <td>0.584770</td>\n",
              "      <td>0.027806</td>\n",
              "      <td>0.207532</td>\n",
              "      <td>0.010264</td>\n",
              "      <td>0.015550</td>\n",
              "      <td>0.568414</td>\n",
              "      <td>0.010594</td>\n",
              "    </tr>\n",
              "  </tbody>\n",
              "</table>\n",
              "</div>"
            ],
            "text/plain": [
              "                                                         joy  ...   disgust\n",
              "sentence                                                      ...          \n",
              "I began making fish curry for my boyfriend and I.   0.981032  ...  0.020403\n",
              "I decided not to read a recipe since I've made ...  0.421317  ...  0.063185\n",
              "Jervis has been single for a long time.             0.878109  ...  0.015689\n",
              "The radio played song after song all night long...  0.569796  ...  0.062805\n",
              "He was the best barista in the whole town.          0.966941  ...  0.010594\n",
              "\n",
              "[5 rows x 8 columns]"
            ]
          },
          "metadata": {
            "tags": []
          },
          "execution_count": 51
        }
      ]
    },
    {
      "cell_type": "code",
      "metadata": {
        "id": "cfFfqNujWOyN"
      },
      "source": [
        "y_true = df_test_labels\n",
        "y_pred = df_result[label_cols].values"
      ],
      "execution_count": 52,
      "outputs": []
    },
    {
      "cell_type": "code",
      "metadata": {
        "id": "Z_Ne9zTZWOyN"
      },
      "source": [
        "thresh = 0.5\n",
        "y_pred = np.array([[1 if i > thresh else 0 for i in j] for j in y_pred])"
      ],
      "execution_count": 53,
      "outputs": []
    },
    {
      "cell_type": "code",
      "metadata": {
        "colab": {
          "base_uri": "https://localhost:8080/"
        },
        "id": "goLHIbTmWOyN",
        "outputId": "d0a1ac2b-2e56-4248-c1d8-011ef825d848"
      },
      "source": [
        "multilabel_confusion_matrix(y_true, y_pred)"
      ],
      "execution_count": 54,
      "outputs": [
        {
          "output_type": "execute_result",
          "data": {
            "text/plain": [
              "array([[[3086,  699],\n",
              "        [ 664, 3308]],\n",
              "\n",
              "       [[1881, 1539],\n",
              "        [1221, 3116]],\n",
              "\n",
              "       [[5249,  557],\n",
              "        [1082,  869]],\n",
              "\n",
              "       [[3741,  900],\n",
              "        [1578, 1538]],\n",
              "\n",
              "       [[5812,  469],\n",
              "        [ 825,  651]],\n",
              "\n",
              "       [[4998,  667],\n",
              "        [ 854, 1238]],\n",
              "\n",
              "       [[4558,  907],\n",
              "        [1244, 1048]],\n",
              "\n",
              "       [[6099,  361],\n",
              "        [ 902,  395]]])"
            ]
          },
          "metadata": {
            "tags": []
          },
          "execution_count": 54
        }
      ]
    },
    {
      "cell_type": "code",
      "metadata": {
        "colab": {
          "base_uri": "https://localhost:8080/"
        },
        "id": "0ug4uF2spmUm",
        "outputId": "a2c49cd4-c88b-4b45-be90-d0b9cc1901f2"
      },
      "source": [
        "print(f1_score(y_true, y_pred,average=None))  # 각 감정별 f1-score : joy\tanticipation\tfear\tsurprise\tanger\tsadness\ttrust\tdisgust"
      ],
      "execution_count": 55,
      "outputs": [
        {
          "output_type": "stream",
          "text": [
            "[0.82917659 0.6930605  0.51465798 0.55383507 0.50154083 0.6194646\n",
            " 0.49352484 0.38480273]\n"
          ],
          "name": "stdout"
        }
      ]
    },
    {
      "cell_type": "code",
      "metadata": {
        "colab": {
          "base_uri": "https://localhost:8080/"
        },
        "id": "3gVLWmv4nVeA",
        "outputId": "e4d72e7d-4ea2-48bc-ea9e-3b25a4753528"
      },
      "source": [
        "print(f1_score(y_true, y_pred,average='micro')) # Calculate metrics globally by counting the total true positives, false negatives and false positives."
      ],
      "execution_count": 56,
      "outputs": [
        {
          "output_type": "stream",
          "text": [
            "0.6270395669545045\n"
          ],
          "name": "stdout"
        }
      ]
    },
    {
      "cell_type": "markdown",
      "metadata": {
        "id": "u_7jdhYImC8_"
      },
      "source": [
        "--------------"
      ]
    },
    {
      "cell_type": "code",
      "metadata": {
        "id": "owzk_-FSmiPW"
      },
      "source": [
        "def tokenize_sentences_single(sentence, tokenizer, max_seq_len = 64):\n",
        "    tokenized_sentence = []\n",
        "    tokenized = tokenizer.encode(\n",
        "                            sentence,                  # Sentence to encode.\n",
        "                            add_special_tokens = True, # Add '[CLS]' and '[SEP]'\n",
        "                            max_length = max_seq_len,  # Truncate all sentences.\n",
        "                    )\n",
        "        \n",
        "    tokenized_sentence.append(tokenized)\n",
        "\n",
        "    return tokenized_sentence\n",
        "\n",
        "def prediction_sample(story):\n",
        "  result = pd.DataFrame(columns=['joy','anticipation','fear','surprise','anger','sadness','trust','disgust'])\n",
        "\n",
        "  sample_input_ids = tokenize_sentences_single(story, tokenizer, MAX_LEN)\n",
        "  sample_input_ids = pad_sequences(sample_input_ids, maxlen=MAX_LEN, dtype=\"long\", value=0, truncating=\"post\", padding=\"post\")\n",
        "  sample_attention_masks = create_attention_masks(sample_input_ids)\n",
        "\n",
        "  predictions = model(sample_input_ids, attention_mask=sample_attention_masks).numpy()\n",
        "\n",
        "  y_pred = np.array([[1 if i > thresh else 0 for i in j] for j in predictions])\n",
        "  result.loc[story, label_cols] = y_pred\n",
        "\n",
        "  return result "
      ],
      "execution_count": 57,
      "outputs": []
    },
    {
      "cell_type": "code",
      "metadata": {
        "colab": {
          "base_uri": "https://localhost:8080/",
          "height": 80
        },
        "id": "eRLwXPrpacCO",
        "outputId": "033f95bd-d15a-4f4b-df23-a157876fbc19"
      },
      "source": [
        "prediction_sample('Jennifer has a big exam tomorrow. She got so stressed, she pulled an all-nighter.')  # 문장 별 다중 emotion 분류 실행 코드"
      ],
      "execution_count": 58,
      "outputs": [
        {
          "output_type": "execute_result",
          "data": {
            "text/html": [
              "<div>\n",
              "<style scoped>\n",
              "    .dataframe tbody tr th:only-of-type {\n",
              "        vertical-align: middle;\n",
              "    }\n",
              "\n",
              "    .dataframe tbody tr th {\n",
              "        vertical-align: top;\n",
              "    }\n",
              "\n",
              "    .dataframe thead th {\n",
              "        text-align: right;\n",
              "    }\n",
              "</style>\n",
              "<table border=\"1\" class=\"dataframe\">\n",
              "  <thead>\n",
              "    <tr style=\"text-align: right;\">\n",
              "      <th></th>\n",
              "      <th>joy</th>\n",
              "      <th>anticipation</th>\n",
              "      <th>fear</th>\n",
              "      <th>surprise</th>\n",
              "      <th>anger</th>\n",
              "      <th>sadness</th>\n",
              "      <th>trust</th>\n",
              "      <th>disgust</th>\n",
              "    </tr>\n",
              "  </thead>\n",
              "  <tbody>\n",
              "    <tr>\n",
              "      <th>Jennifer has a big exam tomorrow. She got so stressed, she pulled an all-nighter.</th>\n",
              "      <td>0</td>\n",
              "      <td>0</td>\n",
              "      <td>1</td>\n",
              "      <td>0</td>\n",
              "      <td>0</td>\n",
              "      <td>1</td>\n",
              "      <td>0</td>\n",
              "      <td>0</td>\n",
              "    </tr>\n",
              "  </tbody>\n",
              "</table>\n",
              "</div>"
            ],
            "text/plain": [
              "                                                    joy  ...  disgust\n",
              "Jennifer has a big exam tomorrow. She got so st...    0  ...        0\n",
              "\n",
              "[1 rows x 8 columns]"
            ]
          },
          "metadata": {
            "tags": []
          },
          "execution_count": 58
        }
      ]
    },
    {
      "cell_type": "code",
      "metadata": {
        "colab": {
          "base_uri": "https://localhost:8080/",
          "height": 80
        },
        "id": "VSs6aqn7anNx",
        "outputId": "540e7166-4f1f-4fbb-e2d6-bec737c89911"
      },
      "source": [
        "prediction_sample('She went into class the next day, weary as can be.') "
      ],
      "execution_count": 59,
      "outputs": [
        {
          "output_type": "execute_result",
          "data": {
            "text/html": [
              "<div>\n",
              "<style scoped>\n",
              "    .dataframe tbody tr th:only-of-type {\n",
              "        vertical-align: middle;\n",
              "    }\n",
              "\n",
              "    .dataframe tbody tr th {\n",
              "        vertical-align: top;\n",
              "    }\n",
              "\n",
              "    .dataframe thead th {\n",
              "        text-align: right;\n",
              "    }\n",
              "</style>\n",
              "<table border=\"1\" class=\"dataframe\">\n",
              "  <thead>\n",
              "    <tr style=\"text-align: right;\">\n",
              "      <th></th>\n",
              "      <th>joy</th>\n",
              "      <th>anticipation</th>\n",
              "      <th>fear</th>\n",
              "      <th>surprise</th>\n",
              "      <th>anger</th>\n",
              "      <th>sadness</th>\n",
              "      <th>trust</th>\n",
              "      <th>disgust</th>\n",
              "    </tr>\n",
              "  </thead>\n",
              "  <tbody>\n",
              "    <tr>\n",
              "      <th>She went into class the next day, weary as can be.</th>\n",
              "      <td>0</td>\n",
              "      <td>0</td>\n",
              "      <td>0</td>\n",
              "      <td>0</td>\n",
              "      <td>0</td>\n",
              "      <td>1</td>\n",
              "      <td>0</td>\n",
              "      <td>0</td>\n",
              "    </tr>\n",
              "  </tbody>\n",
              "</table>\n",
              "</div>"
            ],
            "text/plain": [
              "                                                    joy  ...  disgust\n",
              "She went into class the next day, weary as can be.    0  ...        0\n",
              "\n",
              "[1 rows x 8 columns]"
            ]
          },
          "metadata": {
            "tags": []
          },
          "execution_count": 59
        }
      ]
    },
    {
      "cell_type": "code",
      "metadata": {
        "colab": {
          "base_uri": "https://localhost:8080/",
          "height": 80
        },
        "id": "DoMI1oFkava8",
        "outputId": "ababe945-bf17-4ddf-d5bb-c9d90603429a"
      },
      "source": [
        "prediction_sample('Her teacher stated that the test is postponed for next week.') "
      ],
      "execution_count": 60,
      "outputs": [
        {
          "output_type": "execute_result",
          "data": {
            "text/html": [
              "<div>\n",
              "<style scoped>\n",
              "    .dataframe tbody tr th:only-of-type {\n",
              "        vertical-align: middle;\n",
              "    }\n",
              "\n",
              "    .dataframe tbody tr th {\n",
              "        vertical-align: top;\n",
              "    }\n",
              "\n",
              "    .dataframe thead th {\n",
              "        text-align: right;\n",
              "    }\n",
              "</style>\n",
              "<table border=\"1\" class=\"dataframe\">\n",
              "  <thead>\n",
              "    <tr style=\"text-align: right;\">\n",
              "      <th></th>\n",
              "      <th>joy</th>\n",
              "      <th>anticipation</th>\n",
              "      <th>fear</th>\n",
              "      <th>surprise</th>\n",
              "      <th>anger</th>\n",
              "      <th>sadness</th>\n",
              "      <th>trust</th>\n",
              "      <th>disgust</th>\n",
              "    </tr>\n",
              "  </thead>\n",
              "  <tbody>\n",
              "    <tr>\n",
              "      <th>Her teacher stated that the test is postponed for next week.</th>\n",
              "      <td>0</td>\n",
              "      <td>1</td>\n",
              "      <td>1</td>\n",
              "      <td>1</td>\n",
              "      <td>1</td>\n",
              "      <td>1</td>\n",
              "      <td>0</td>\n",
              "      <td>0</td>\n",
              "    </tr>\n",
              "  </tbody>\n",
              "</table>\n",
              "</div>"
            ],
            "text/plain": [
              "                                                    joy  ...  disgust\n",
              "Her teacher stated that the test is postponed f...    0  ...        0\n",
              "\n",
              "[1 rows x 8 columns]"
            ]
          },
          "metadata": {
            "tags": []
          },
          "execution_count": 60
        }
      ]
    },
    {
      "cell_type": "code",
      "metadata": {
        "colab": {
          "base_uri": "https://localhost:8080/",
          "height": 80
        },
        "id": "7u7GvVLga17U",
        "outputId": "02a3704d-ec15-4809-e48b-4906e582aab6"
      },
      "source": [
        "prediction_sample('Jennifer felt bittersweet about it.') "
      ],
      "execution_count": 61,
      "outputs": [
        {
          "output_type": "execute_result",
          "data": {
            "text/html": [
              "<div>\n",
              "<style scoped>\n",
              "    .dataframe tbody tr th:only-of-type {\n",
              "        vertical-align: middle;\n",
              "    }\n",
              "\n",
              "    .dataframe tbody tr th {\n",
              "        vertical-align: top;\n",
              "    }\n",
              "\n",
              "    .dataframe thead th {\n",
              "        text-align: right;\n",
              "    }\n",
              "</style>\n",
              "<table border=\"1\" class=\"dataframe\">\n",
              "  <thead>\n",
              "    <tr style=\"text-align: right;\">\n",
              "      <th></th>\n",
              "      <th>joy</th>\n",
              "      <th>anticipation</th>\n",
              "      <th>fear</th>\n",
              "      <th>surprise</th>\n",
              "      <th>anger</th>\n",
              "      <th>sadness</th>\n",
              "      <th>trust</th>\n",
              "      <th>disgust</th>\n",
              "    </tr>\n",
              "  </thead>\n",
              "  <tbody>\n",
              "    <tr>\n",
              "      <th>Jennifer felt bittersweet about it.</th>\n",
              "      <td>0</td>\n",
              "      <td>0</td>\n",
              "      <td>0</td>\n",
              "      <td>0</td>\n",
              "      <td>0</td>\n",
              "      <td>1</td>\n",
              "      <td>0</td>\n",
              "      <td>0</td>\n",
              "    </tr>\n",
              "  </tbody>\n",
              "</table>\n",
              "</div>"
            ],
            "text/plain": [
              "                                     joy  anticipation  ...  trust  disgust\n",
              "Jennifer felt bittersweet about it.    0             0  ...      0        0\n",
              "\n",
              "[1 rows x 8 columns]"
            ]
          },
          "metadata": {
            "tags": []
          },
          "execution_count": 61
        }
      ]
    },
    {
      "cell_type": "code",
      "metadata": {
        "colab": {
          "base_uri": "https://localhost:8080/",
          "height": 80
        },
        "id": "AaGNoG29bICO",
        "outputId": "d7e63ec3-6477-4787-cc9d-ded7e9b6d02e"
      },
      "source": [
        "prediction_sample('Her roommate asked her to go to a nearby city for a concert.') "
      ],
      "execution_count": 62,
      "outputs": [
        {
          "output_type": "execute_result",
          "data": {
            "text/html": [
              "<div>\n",
              "<style scoped>\n",
              "    .dataframe tbody tr th:only-of-type {\n",
              "        vertical-align: middle;\n",
              "    }\n",
              "\n",
              "    .dataframe tbody tr th {\n",
              "        vertical-align: top;\n",
              "    }\n",
              "\n",
              "    .dataframe thead th {\n",
              "        text-align: right;\n",
              "    }\n",
              "</style>\n",
              "<table border=\"1\" class=\"dataframe\">\n",
              "  <thead>\n",
              "    <tr style=\"text-align: right;\">\n",
              "      <th></th>\n",
              "      <th>joy</th>\n",
              "      <th>anticipation</th>\n",
              "      <th>fear</th>\n",
              "      <th>surprise</th>\n",
              "      <th>anger</th>\n",
              "      <th>sadness</th>\n",
              "      <th>trust</th>\n",
              "      <th>disgust</th>\n",
              "    </tr>\n",
              "  </thead>\n",
              "  <tbody>\n",
              "    <tr>\n",
              "      <th>Her roommate asked her to go to a nearby city for a concert.</th>\n",
              "      <td>1</td>\n",
              "      <td>1</td>\n",
              "      <td>0</td>\n",
              "      <td>0</td>\n",
              "      <td>0</td>\n",
              "      <td>0</td>\n",
              "      <td>0</td>\n",
              "      <td>0</td>\n",
              "    </tr>\n",
              "  </tbody>\n",
              "</table>\n",
              "</div>"
            ],
            "text/plain": [
              "                                                    joy  ...  disgust\n",
              "Her roommate asked her to go to a nearby city f...    1  ...        0\n",
              "\n",
              "[1 rows x 8 columns]"
            ]
          },
          "metadata": {
            "tags": []
          },
          "execution_count": 62
        }
      ]
    },
    {
      "cell_type": "code",
      "metadata": {
        "id": "_-MhmTEObRp-",
        "colab": {
          "base_uri": "https://localhost:8080/",
          "height": 80
        },
        "outputId": "000949e5-f5ac-4d0e-ff62-2aecca6ad2d0"
      },
      "source": [
        "prediction_sample('Karen agreed happily. The show was absolutely exhilarating.') "
      ],
      "execution_count": 63,
      "outputs": [
        {
          "output_type": "execute_result",
          "data": {
            "text/html": [
              "<div>\n",
              "<style scoped>\n",
              "    .dataframe tbody tr th:only-of-type {\n",
              "        vertical-align: middle;\n",
              "    }\n",
              "\n",
              "    .dataframe tbody tr th {\n",
              "        vertical-align: top;\n",
              "    }\n",
              "\n",
              "    .dataframe thead th {\n",
              "        text-align: right;\n",
              "    }\n",
              "</style>\n",
              "<table border=\"1\" class=\"dataframe\">\n",
              "  <thead>\n",
              "    <tr style=\"text-align: right;\">\n",
              "      <th></th>\n",
              "      <th>joy</th>\n",
              "      <th>anticipation</th>\n",
              "      <th>fear</th>\n",
              "      <th>surprise</th>\n",
              "      <th>anger</th>\n",
              "      <th>sadness</th>\n",
              "      <th>trust</th>\n",
              "      <th>disgust</th>\n",
              "    </tr>\n",
              "  </thead>\n",
              "  <tbody>\n",
              "    <tr>\n",
              "      <th>Karen agreed happily. The show was absolutely exhilarating.</th>\n",
              "      <td>1</td>\n",
              "      <td>1</td>\n",
              "      <td>0</td>\n",
              "      <td>1</td>\n",
              "      <td>0</td>\n",
              "      <td>0</td>\n",
              "      <td>0</td>\n",
              "      <td>0</td>\n",
              "    </tr>\n",
              "  </tbody>\n",
              "</table>\n",
              "</div>"
            ],
            "text/plain": [
              "                                                    joy  ...  disgust\n",
              "Karen agreed happily. The show was absolutely e...    1  ...        0\n",
              "\n",
              "[1 rows x 8 columns]"
            ]
          },
          "metadata": {
            "tags": []
          },
          "execution_count": 63
        }
      ]
    },
    {
      "cell_type": "markdown",
      "metadata": {
        "id": "61-leThUrAUC"
      },
      "source": [
        "----------------------"
      ]
    }
  ]
}